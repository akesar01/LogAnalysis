{
 "cells": [
  {
   "cell_type": "markdown",
   "metadata": {},
   "source": [
    "# Import all Libraries"
   ]
  },
  {
   "cell_type": "code",
   "execution_count": 1,
   "metadata": {},
   "outputs": [],
   "source": [
    "import numpy as np\n",
    "import pandas as pd\n",
    "from elasticsearch import Elasticsearch\n",
    "from elasticsearch.helpers import scan\n",
    "import time\n",
    "from sklearn.feature_extraction.text import TfidfVectorizer\n",
    "from sklearn.metrics import pairwise_distances\n",
    "from scipy.spatial.distance import cosine\n",
    "from sklearn.cluster import DBSCAN\n",
    "from pyod.models.hbos import HBOS\n",
    "from pyod.models.iforest import IForest"
   ]
  },
  {
   "cell_type": "markdown",
   "metadata": {},
   "source": [
    "# Connect to Elastic Search"
   ]
  },
  {
   "cell_type": "code",
   "execution_count": 2,
   "metadata": {},
   "outputs": [],
   "source": [
    "# create a client instance of the library\n",
    "es = Elasticsearch(host='localhost', port=9200)"
   ]
  },
  {
   "cell_type": "markdown",
   "metadata": {},
   "source": [
    "# Function to fetch the Ids and their Respective Messages"
   ]
  },
  {
   "cell_type": "code",
   "execution_count": 3,
   "metadata": {},
   "outputs": [],
   "source": [
    "def get_data_from_elastic():\n",
    "    # query: The elasticsearch query.\n",
    "    query = {\n",
    "    \n",
    "    }\n",
    "    # Scan function to get all the data. \n",
    "    response = scan(client=es,             \n",
    "               query=query,                                     \n",
    "               scroll='2m',\n",
    "               index='*.27',\n",
    "               raise_on_error=True,\n",
    "               preserve_order=False,\n",
    "               clear_scroll=True)\n",
    "\n",
    "    # Keep response in a list.\n",
    "    result = list(response)\n",
    "    print(\"! \",result)\n",
    "    ids =[]\n",
    "    for i in range(len(result)):\n",
    "        ids.append(result[i][\"_id\"])\n",
    "    temp = []\n",
    "    \n",
    "    # We need only '_source', which has all the fields required.\n",
    "    for hit in result:\n",
    "        \n",
    "        temp.append(hit['_source'])\n",
    "    # Create a dataframe.\n",
    "    df = pd.DataFrame(temp)\n",
    "\n",
    "    return (ids,df)"
   ]
  },
  {
   "cell_type": "code",
   "execution_count": 9,
   "metadata": {},
   "outputs": [
    {
     "name": "stderr",
     "output_type": "stream",
     "text": [
      "IOPub data rate exceeded.\n",
      "The notebook server will temporarily stop sending output\n",
      "to the client in order to avoid crashing it.\n",
      "To change this limit, set the config variable\n",
      "`--NotebookApp.iopub_data_rate_limit`.\n",
      "\n",
      "Current values:\n",
      "NotebookApp.iopub_data_rate_limit=1000000.0 (bytes/sec)\n",
      "NotebookApp.rate_limit_window=3.0 (secs)\n",
      "\n"
     ]
    }
   ],
   "source": [
    "data = get_data_from_elastic()\n",
    "ids = data[0]\n",
    "df = data[1]"
   ]
  },
  {
   "cell_type": "code",
   "execution_count": 11,
   "metadata": {},
   "outputs": [],
   "source": [
    "msg_list = list(df['message'])"
   ]
  },
  {
   "cell_type": "markdown",
   "metadata": {},
   "source": [
    "# Text Cleaning"
   ]
  },
  {
   "cell_type": "code",
   "execution_count": 12,
   "metadata": {},
   "outputs": [],
   "source": [
    "import re\n",
    "import html\n",
    "\n",
    "clean_msg_list=[]\n",
    "for msg in msg_list:\n",
    "    #Various regular expressions to clean the message data\n",
    "    #To remove the word combo from the msgs\n",
    "    msg = re.sub('combo',\"\",msg)\n",
    "    #To remove various emailIds\n",
    "    msg = re.sub(r'^[a-zA-Z0-9_.+-]+@[a-zA-Z0-9-]+\\.[a-zA-Z0-9-.]+$',' ',msg)\n",
    "    #To remove the hyperlinks\n",
    "    msg = re.sub(r'https?:\\/\\/.\\S+', \" \", msg)\n",
    "    \n",
    "    #To remove the date and time from the msgs\n",
    "    #Format = Time(HH:MM:SS)\n",
    "    msg = re.sub(r'(\\d)?\\d:\\d\\d:\\d\\d','',msg)\n",
    "    #Format = Date(Int)(MM/DD/YYYY)/(MM-DD-YYYY)/(MM.DD.YYYY)/(MM DD YYYY)\n",
    "    msg = re.sub(r'(0?[1-9]|1[012])[- /.](0?[1-9]|[12][0-9]|3[01])[- /.](19|20)?[0-9]{2}( )?$','',msg)\n",
    "    #Format = Date(Int)(DD/MM/YYYY)/(DD-MM-YYYY)/(DD.MM.YYYY)/(DD MM YYYY)\n",
    "    msg = re.sub(r'(0?[1-9]|[12][0-9]|3[01])[- /.](0?[1-9]|1[012])[- /.](19|20)?[0-9]{2}( )?$','',msg)\n",
    "    #Format = Date(Int)(YYYY/MM/DD/)/(YYYY-MM-DD)/(YYYY.MM.DD)/(YYYY MM DD)\n",
    "    msg = re.sub(r'(19|20)?[0-9]{2}[- /.](0?[1-9]|1[012])[- /.](0?[1-9]|[12][0-9]|3[01])( )?$','',msg)\n",
    "    #Format = Date(Int) MOnth(Str) Year(Int)\n",
    "    msg = re.sub(r'(\\d)?\\d( )? \\S\\S\\S( )?','',msg)\n",
    "    #Format = Month(Str) Date(Int)\n",
    "    msg = re.sub(r'\\S\\S\\S( )? (\\d)?\\d( )?','',msg)\n",
    "    #Format = Day(Str) Month(Str) Date(Int) Year(YYYY)\n",
    "    msg = re.sub(r'(\\S\\S\\S )?(\\S\\S\\S )?(\\S\\S\\S)?( )? (\\d\\d\\d\\d)?$','',msg)\n",
    "    #Format = MOnth(Str) Date(Int) Year(Int)\n",
    "    msg = re.sub(r'\\S\\S\\S( )?[- /.](\\d)?\\d( )?[- /.](\\d\\d\\d\\d)?$','',msg)\n",
    "    #Format = Date(Int) MOnth(Str) Year(Int)\n",
    "    msg = re.sub(r'(\\d)?\\d( )?[- /.]\\S\\S\\S( )?[- /.](\\d\\d\\d\\d)?$','',msg)\n",
    "    #Format = Year(Int) Month(Str) Date(Int)\n",
    "    msg = re.sub(r'\\d\\d\\d\\d( )?[- /.]\\S\\S\\S( )?[- /.](\\d)?\\d( )?$','',msg)\n",
    "    \n",
    "    #To remove IP Addresses\n",
    "    msg = re.sub(r'((?:(?:25[0-5]|2[0-4]\\d|((1\\d{2})|([1-9]?\\d)))\\.){3}(?:25[0-5]|2[0-4]\\d|((1\\d{2})|([1-9]?\\d))))','',msg)\n",
    "    #To remove any substring of #%abc42 type\n",
    "    msg = re.sub('\\%\\w+','',msg) \n",
    "    msg = re.sub('\\S_\\S+','',msg)\n",
    "    #To remove ... special characters from the msgs\n",
    "    msg = re.sub('\\...+','',msg)\n",
    "    #To remove � from the msgs\n",
    "    msg = re.sub(r'\\S\\�+','',msg)\n",
    "    #To remove punctuation\n",
    "    msg = re.sub(r'[^\\w\\s]','',msg)\n",
    "    #To remove digits\n",
    "    msg = re.sub(r'[0-9\\n]','',msg)\n",
    "    #To remove leading and trailing whitespace character\n",
    "    msg = re.sub(r'^\\s*|\\s*$','',msg)\n",
    "    #To remove Blank Lines\n",
    "    msg = re.sub(r'\\n\\s*\\r ','',msg)\n",
    "    #To remove any html links\n",
    "    msg= html.unescape(msg)\n",
    "    clean_msg_list.append(msg)"
   ]
  },
  {
   "cell_type": "markdown",
   "metadata": {},
   "source": [
    "# Tokenization"
   ]
  },
  {
   "cell_type": "code",
   "execution_count": 13,
   "metadata": {},
   "outputs": [],
   "source": [
    "#Word tokenization\n",
    "import nltk\n",
    "from nltk.corpus import stopwords\n",
    "from nltk import word_tokenize\n",
    "\n",
    "\n",
    "stop_words = list(set(stopwords.words('english')))\n",
    "stop_words = stop_words+['logname', 'uid','eth','euid','PCI','node','Privacy','IRQ','ttyNODEVssh', 'ruser','rhostjwhp5','IPv','tables','Microcode', 'Driver','Hash', 'interface','family','httpd','info', 'mice','check','pass','cache','spamd','bytes','syslog','klogd','BIOS','protocol','NET','md','arrays','filesystem','CPU','user', 'cyrus','dev', 'type', 'ext3', 'uses','others','internal', 'service','already','floppy','syslogd','ip_tables','startup','use','NET', 'Registered', 'Revision','CDROM', 'drive','hda']\n",
    "new_Doc=[]\n",
    "for msg in clean_msg_list:\n",
    "    nltk_tokens = nltk.word_tokenize(msg)\n",
    "    filtered_sentence = []\n",
    "    for w in nltk_tokens:\n",
    "        if w not in stop_words:\n",
    "            filtered_sentence.append(w)\n",
    "    new_Doc.append(filtered_sentence)\n",
    "#print(new_Doc)        "
   ]
  },
  {
   "cell_type": "markdown",
   "metadata": {},
   "source": [
    "# Stemming"
   ]
  },
  {
   "cell_type": "code",
   "execution_count": 14,
   "metadata": {},
   "outputs": [],
   "source": [
    "# from nltk.stem.wordnet import WordNetLemmatizer as wl\n",
    "from nltk.stem import PorterStemmer\n",
    "# wordnet = wl()\n",
    "porter = PorterStemmer()\n",
    "\n",
    "doc =[]\n",
    "for docs in new_Doc:\n",
    "    arr =[]\n",
    "    for word in docs:\n",
    "        arr.append(porter.stem(word))\n",
    "#         arr.append(wordnet.lemmatize(word))\n",
    "    doc.append(arr)\n"
   ]
  },
  {
   "cell_type": "markdown",
   "metadata": {},
   "source": [
    "# Re-Formation/DeTokenization"
   ]
  },
  {
   "cell_type": "code",
   "execution_count": 27,
   "metadata": {},
   "outputs": [],
   "source": [
    "from sacremoses import MosesDetokenizer\n",
    "\n",
    "parsed_logs=[]\n",
    "for words in doc:\n",
    "    detokens = MosesDetokenizer().detokenize(words, return_str=True)\n",
    "    parsed_logs.append(detokens)"
   ]
  },
  {
   "cell_type": "markdown",
   "metadata": {},
   "source": [
    "# TFIDF Differentiation\n"
   ]
  },
  {
   "cell_type": "code",
   "execution_count": 33,
   "metadata": {},
   "outputs": [],
   "source": [
    "final_logs = list(set(parsed_logs))\n",
    "dict1 = {}\n",
    "for log in range(len(parsed_logs)):\n",
    "    if dict1.get(parsed_logs[log]) is None:\n",
    "        dict1[parsed_logs[log]] = []\n",
    "    dict1[parsed_logs[log]].append(log)\n",
    "    \n",
    "# print(len(final_logs))\n",
    "# print(dict1)"
   ]
  },
  {
   "cell_type": "markdown",
   "metadata": {},
   "source": [
    "### The purpose of TF - IDF is to highlight words which are frequent  in a document but not cross document"
   ]
  },
  {
   "cell_type": "code",
   "execution_count": 34,
   "metadata": {},
   "outputs": [],
   "source": [
    "text = final_logs\n",
    "vectorizer = TfidfVectorizer()\n",
    "result = vectorizer.fit_transform(text)\n"
   ]
  },
  {
   "cell_type": "code",
   "execution_count": 35,
   "metadata": {},
   "outputs": [
    {
     "name": "stdout",
     "output_type": "stream",
     "text": [
      "--- 0.1769874095916748 seconds ---\n"
     ]
    }
   ],
   "source": [
    "t1 = time.time()\n",
    "text1 = parsed_logs\n",
    "vec = TfidfVectorizer()\n",
    "result1 = vec.fit_transform(text1)\n",
    "print(\"--- %s seconds ---\" % (time.time() - t1))"
   ]
  },
  {
   "cell_type": "code",
   "execution_count": 142,
   "metadata": {},
   "outputs": [],
   "source": [
    "#lol = [(k, vectorizer.vocabulary_[k]) for k in vectorizer.vocabulary_]"
   ]
  },
  {
   "cell_type": "code",
   "execution_count": 86,
   "metadata": {},
   "outputs": [
    {
     "name": "stdout",
     "output_type": "stream",
     "text": [
      "608\n",
      "25567\n"
     ]
    }
   ],
   "source": [
    "arr = result.toarray()\n",
    "print(len(arr))\n",
    "arr1 = result1.toarray()\n",
    "print(len(arr1))\n",
    "# idf_df = pd.DataFrame(result.toarray(),columns=vectorizer.get_feature_names())"
   ]
  },
  {
   "cell_type": "markdown",
   "metadata": {},
   "source": [
    "## Applying Histogram-based Outlier Detection (HBOS)"
   ]
  },
  {
   "cell_type": "code",
   "execution_count": 37,
   "metadata": {},
   "outputs": [
    {
     "name": "stdout",
     "output_type": "stream",
     "text": [
      "--- 8.078737497329712 seconds ---\n"
     ]
    }
   ],
   "source": [
    "t3 = time.time()\n",
    "n_bins = 50\n",
    "hbos = HBOS(alpha=0.5, contamination=0.1, n_bins=n_bins, tol=0.5)\n",
    "model = hbos.fit(arr1)\n",
    "y_scores = model.decision_function(arr1)*-1\n",
    "print(\"--- %s seconds ---\" % (time.time() - t3))"
   ]
  },
  {
   "cell_type": "markdown",
   "metadata": {},
   "source": [
    "###  Min Max Scaling"
   ]
  },
  {
   "cell_type": "code",
   "execution_count": 38,
   "metadata": {},
   "outputs": [
    {
     "name": "stdout",
     "output_type": "stream",
     "text": [
      "61.93346387869487\n"
     ]
    },
    {
     "data": {
      "image/png": "[encoded data removed]",
      "text/plain": [
       "<Figure size 432x288 with 1 Axes>"
      ]
     },
     "metadata": {
      "needs_background": "light"
     },
     "output_type": "display_data"
    }
   ],
   "source": [
    "list_score = list(y_scores)\n",
    "mi = min(list_score)\n",
    "ma = max(list_score)\n",
    "final_score = [((x-mi)/(ma-mi))*100 for x in list_score]\n",
    "\n",
    "print(((-model.threshold_ - mi)/(ma-mi))*100)\n",
    "\n",
    "import matplotlib.pyplot as plt\n",
    "plt.hist(final_score, bins='auto')  # arguments are passed to np.histogram\n",
    "plt.title(\"Histogram with 'auto' bins\")\n",
    "#plt.margins(-0.4,-0.4)\n",
    "# plt.xlim((5200, 5220))\n",
    "# plt.ylim((0, 100))\n",
    "plt.show()"
   ]
  },
  {
   "cell_type": "code",
   "execution_count": 39,
   "metadata": {},
   "outputs": [
    {
     "data": {
      "text/plain": [
       "array([-5278.98335996, -5283.96533215, -5283.96533215, ...,\n",
       "       -5263.20043195, -5278.57871222, -5278.76875267])"
      ]
     },
     "execution_count": 39,
     "metadata": {},
     "output_type": "execute_result"
    }
   ],
   "source": [
    "-1*y_scores"
   ]
  },
  {
   "cell_type": "markdown",
   "metadata": {},
   "source": [
    "### Isolation forest"
   ]
  },
  {
   "cell_type": "code",
   "execution_count": 40,
   "metadata": {},
   "outputs": [
    {
     "name": "stdout",
     "output_type": "stream",
     "text": [
      "--- 175.8294095993042 seconds ---\n"
     ]
    }
   ],
   "source": [
    "t4 = time.time()\n",
    "forest = IForest(behaviour=\"new\",contamination=0.1)\n",
    "forest.fit(arr1)\n",
    "score_pred = forest.decision_function(arr1)\n",
    "print(\"--- %s seconds ---\" % (time.time() - t4))"
   ]
  },
  {
   "cell_type": "code",
   "execution_count": 41,
   "metadata": {},
   "outputs": [
    {
     "data": {
      "text/plain": [
       "array([-0.02830727, -0.02078333, -0.02078333, ..., -0.03312702,\n",
       "       -0.00423761, -0.01852492])"
      ]
     },
     "execution_count": 41,
     "metadata": {},
     "output_type": "execute_result"
    }
   ],
   "source": [
    "score_pred"
   ]
  },
  {
   "cell_type": "markdown",
   "metadata": {},
   "source": [
    "## Using Max Min Scaling"
   ]
  },
  {
   "cell_type": "code",
   "execution_count": 42,
   "metadata": {},
   "outputs": [
    {
     "name": "stdout",
     "output_type": "stream",
     "text": [
      "42.037124536188195\n"
     ]
    }
   ],
   "source": [
    "list_score1 = list(score_pred)\n",
    "mi1 = min(list_score1)\n",
    "ma1 = max(list_score1)\n",
    "final_score1 = [((x-mi1)/(ma1-mi1))*100 for x in list_score1]\n",
    "\n",
    "print(((-forest.threshold_ - mi1)/(ma1-mi1))*100)\n",
    "\n",
    "score_pred1 = pd.Series(final_score1)"
   ]
  },
  {
   "cell_type": "markdown",
   "metadata": {},
   "source": [
    "## Z score"
   ]
  },
  {
   "cell_type": "code",
   "execution_count": 596,
   "metadata": {},
   "outputs": [],
   "source": [
    "import math\n",
    "def variance(data, ddof=0):\n",
    "    \n",
    "    \n",
    "        \n",
    "        \n",
    "    n = len(data)\n",
    "    mean = sum(data) / n\n",
    "    return sum((x - mean) ** 2 for x in data) / (n - ddof)\n",
    "def stdev(data):\n",
    "    \n",
    "    \n",
    "    var = variance(data)\n",
    "    std_dev = math.sqrt(var)\n",
    "    return std_dev"
   ]
  },
  {
   "cell_type": "code",
   "execution_count": 613,
   "metadata": {},
   "outputs": [
    {
     "name": "stdout",
     "output_type": "stream",
     "text": [
      "Threshold  13.371373506167695\n",
      "[ 9.39422574 23.73247758 23.73247758 ... 22.27699872 36.13865313\n",
      " 21.47802313]\n"
     ]
    }
   ],
   "source": [
    "sd = stdev(score_pred)\n",
    "mean = sum(score_pred)/len(score_pred)\n",
    "change_data = [((x-mean)/sd) for x in score_pred]\n",
    "\n",
    "change_data = (change_data - min(change_data))\n",
    "div = max(change_data)\n",
    "change_data = change_data/div\n",
    "change_data = change_data*100;\n",
    "# th = (((forest.threshold_ - mean)/sd) - min(change_data))/div\n",
    "th *=100\n",
    "print(\"Threshold \",th)\n",
    "print(change_data)"
   ]
  },
  {
   "cell_type": "code",
   "execution_count": 612,
   "metadata": {},
   "outputs": [
    {
     "data": {
      "image/png": "[encoded data removed]",
      "text/plain": [
       "<Figure size 432x288 with 1 Axes>"
      ]
     },
     "metadata": {
      "needs_background": "light"
     },
     "output_type": "display_data"
    }
   ],
   "source": [
    "plt.hist(change_data, bins='auto')\n",
    "plt.show()"
   ]
  },
  {
   "cell_type": "markdown",
   "metadata": {},
   "source": [
    "## Using Sigmoid Function"
   ]
  },
  {
   "cell_type": "code",
   "execution_count": 619,
   "metadata": {},
   "outputs": [
    {
     "name": "stdout",
     "output_type": "stream",
     "text": [
      "50.00000000000002\n"
     ]
    },
    {
     "data": {
      "image/png": "[encoded data removed]",
      "text/plain": [
       "<Figure size 432x288 with 1 Axes>"
      ]
     },
     "metadata": {
      "needs_background": "light"
     },
     "output_type": "display_data"
    }
   ],
   "source": [
    "sigmoid_data = [(1/(1 + np.exp(-x)))*100 for x in score_pred]\n",
    "# print(sigmoid_data)\n",
    "th2 = (1/(1 + np.exp(-forest.threshold_)))*100\n",
    "print(th2)\n",
    "plt.plot(score_pred, sigmoid_data)\n",
    "plt.xlabel(\"Anomly Score\")\n",
    "plt.ylabel(\"Sigmoid(X)\")\n",
    "  \n",
    "plt.show()\n",
    "# plt.hist(sigmoid_data, bins='auto')\n",
    "# plt.show()"
   ]
  },
  {
   "cell_type": "code",
   "execution_count": 701,
   "metadata": {},
   "outputs": [],
   "source": [
    "x= (sorted(score_pred))\n",
    "y = [-x1 for x1 in x]"
   ]
  },
  {
   "cell_type": "code",
   "execution_count": 707,
   "metadata": {},
   "outputs": [
    {
     "name": "stdout",
     "output_type": "stream",
     "text": [
      "0.36787944117144233\n"
     ]
    }
   ],
   "source": [
    "print(np.exp(-1))"
   ]
  },
  {
   "cell_type": "code",
   "execution_count": 704,
   "metadata": {},
   "outputs": [
    {
     "data": {
      "image/png": "[encoded data removed]",
      "text/plain": [
       "<Figure size 432x288 with 1 Axes>"
      ]
     },
     "metadata": {
      "needs_background": "light"
     },
     "output_type": "display_data"
    }
   ],
   "source": [
    "plt.plot(x)\n",
    "plt.show()"
   ]
  },
  {
   "cell_type": "code",
   "execution_count": 726,
   "metadata": {},
   "outputs": [
    {
     "data": {
      "text/plain": [
       "[<matplotlib.lines.Line2D at 0x1ae0e533c10>]"
      ]
     },
     "execution_count": 726,
     "metadata": {},
     "output_type": "execute_result"
    },
    {
     "data": {
      "image/png": "[encoded data removed]",
      "text/plain": [
       "<Figure size 432x288 with 1 Axes>"
      ]
     },
     "metadata": {
      "needs_background": "light"
     },
     "output_type": "display_data"
    }
   ],
   "source": [
    "plt.plot(x2)\n",
    "plt.plot(score_x2)"
   ]
  },
  {
   "cell_type": "code",
   "execution_count": 721,
   "metadata": {},
   "outputs": [
    {
     "data": {
      "text/plain": [
       "[<matplotlib.lines.Line2D at 0x1ae0cf985e0>]"
      ]
     },
     "execution_count": 721,
     "metadata": {},
     "output_type": "execute_result"
    },
    {
     "data": {
      "image/png": "[encoded data removed]",
      "text/plain": [
       "<Figure size 432x288 with 1 Axes>"
      ]
     },
     "metadata": {
      "needs_background": "light"
     },
     "output_type": "display_data"
    }
   ],
   "source": [
    "x2=np.linspace(-10,10,1000)\n",
    "score_x2= 1/(1+np.exp(-1*x2))\n",
    "plt.plot(score_x2)"
   ]
  },
  {
   "cell_type": "code",
   "execution_count": 735,
   "metadata": {},
   "outputs": [
    {
     "data": {
      "text/plain": [
       "[<matplotlib.lines.Line2D at 0x1ae0ee9a8e0>]"
      ]
     },
     "execution_count": 735,
     "metadata": {},
     "output_type": "execute_result"
    },
    {
     "data": {
      "image/png": "[encoded data removed]",
      "text/plain": [
       "<Figure size 432x288 with 1 Axes>"
      ]
     },
     "metadata": {
      "needs_background": "light"
     },
     "output_type": "display_data"
    }
   ],
   "source": [
    "x2=np.linspace(0,10000,10000)\n",
    "score_x2= 1/(1+np.exp(-1*x2))\n",
    "score_x3 = (x2-min(x2))/(max(x2)-min(x2))\n",
    "plt.plot(x2)"
   ]
  },
  {
   "cell_type": "code",
   "execution_count": 736,
   "metadata": {},
   "outputs": [
    {
     "data": {
      "text/plain": [
       "[<matplotlib.lines.Line2D at 0x1ae0ef77250>]"
      ]
     },
     "execution_count": 736,
     "metadata": {},
     "output_type": "execute_result"
    },
    {
     "data": {
      "image/png": "[encoded data removed]",
      "text/plain": [
       "<Figure size 432x288 with 1 Axes>"
      ]
     },
     "metadata": {
      "needs_background": "light"
     },
     "output_type": "display_data"
    }
   ],
   "source": [
    "plt.plot(score_x3)"
   ]
  },
  {
   "cell_type": "code",
   "execution_count": 737,
   "metadata": {},
   "outputs": [
    {
     "data": {
      "text/plain": [
       "[<matplotlib.lines.Line2D at 0x1ae0f25bb80>]"
      ]
     },
     "execution_count": 737,
     "metadata": {},
     "output_type": "execute_result"
    },
    {
     "data": {
      "image/png": "[encoded data removed]",
      "text/plain": [
       "<Figure size 432x288 with 1 Axes>"
      ]
     },
     "metadata": {
      "needs_background": "light"
     },
     "output_type": "display_data"
    }
   ],
   "source": [
    "plt.plot(score_x2)"
   ]
  },
  {
   "cell_type": "code",
   "execution_count": 722,
   "metadata": {},
   "outputs": [
    {
     "data": {
      "text/plain": [
       "[<matplotlib.lines.Line2D at 0x1ae0cffe400>]"
      ]
     },
     "execution_count": 722,
     "metadata": {},
     "output_type": "execute_result"
    },
    {
     "data": {
      "image/png": "[encoded data removed]",
      "text/plain": [
       "<Figure size 432x288 with 1 Axes>"
      ]
     },
     "metadata": {
      "needs_background": "light"
     },
     "output_type": "display_data"
    }
   ],
   "source": [
    "plt.plot(1/(1+np.exp(-score_x2)))"
   ]
  },
  {
   "cell_type": "code",
   "execution_count": 705,
   "metadata": {},
   "outputs": [
    {
     "data": {
      "text/plain": [
       "[<matplotlib.lines.Line2D at 0x1ae0bf25820>]"
      ]
     },
     "execution_count": 705,
     "metadata": {},
     "output_type": "execute_result"
    },
    {
     "data": {
      "image/png": "[encoded data removed]",
      "text/plain": [
       "<Figure size 432x288 with 1 Axes>"
      ]
     },
     "metadata": {
      "needs_background": "light"
     },
     "output_type": "display_data"
    }
   ],
   "source": [
    "plt.plot((1/(1+np.exp(y))))\n"
   ]
  },
  {
   "cell_type": "code",
   "execution_count": 677,
   "metadata": {},
   "outputs": [
    {
     "data": {
      "text/plain": [
       "[<matplotlib.lines.Line2D at 0x1ae0d436940>]"
      ]
     },
     "execution_count": 677,
     "metadata": {},
     "output_type": "execute_result"
    },
    {
     "data": {
      "image/png": "[encoded data removed]",
      "text/plain": [
       "<Figure size 432x288 with 1 Axes>"
      ]
     },
     "metadata": {
      "needs_background": "light"
     },
     "output_type": "display_data"
    }
   ],
   "source": [
    "data = np.array(x[800:1000])*-1\n",
    "# print(data)\n",
    "final_data = [10+(1/(1+np.exp(data1))) for data1 in data]\n",
    "plt.plot(final_data)"
   ]
  },
  {
   "cell_type": "code",
   "execution_count": null,
   "metadata": {},
   "outputs": [],
   "source": []
  },
  {
   "cell_type": "code",
   "execution_count": 651,
   "metadata": {},
   "outputs": [
    {
     "data": {
      "image/png": "[encoded data removed]",
      "text/plain": [
       "<Figure size 432x288 with 1 Axes>"
      ]
     },
     "metadata": {
      "needs_background": "light"
     },
     "output_type": "display_data"
    }
   ],
   "source": [
    "plt.plot(x[800:1000])\n",
    "plt.show()"
   ]
  },
  {
   "cell_type": "code",
   "execution_count": 657,
   "metadata": {},
   "outputs": [],
   "source": [
    "y=np.array([1,2,3,4,5,6,7,8,9,10])"
   ]
  },
  {
   "cell_type": "code",
   "execution_count": 658,
   "metadata": {},
   "outputs": [
    {
     "data": {
      "text/plain": [
       "[<matplotlib.lines.Line2D at 0x1ae0cb284f0>]"
      ]
     },
     "execution_count": 658,
     "metadata": {},
     "output_type": "execute_result"
    },
    {
     "data": {
      "image/png": "[encoded data removed]",
      "text/plain": [
       "<Figure size 432x288 with 1 Axes>"
      ]
     },
     "metadata": {
      "needs_background": "light"
     },
     "output_type": "display_data"
    }
   ],
   "source": [
    "\n",
    "plt.plot(y)"
   ]
  },
  {
   "cell_type": "code",
   "execution_count": 659,
   "metadata": {},
   "outputs": [
    {
     "data": {
      "text/plain": [
       "[<matplotlib.lines.Line2D at 0x1ae0d7e0d90>]"
      ]
     },
     "execution_count": 659,
     "metadata": {},
     "output_type": "execute_result"
    },
    {
     "data": {
      "image/png": "[encoded data removed]",
      "text/plain": [
       "<Figure size 432x288 with 1 Axes>"
      ]
     },
     "metadata": {
      "needs_background": "light"
     },
     "output_type": "display_data"
    }
   ],
   "source": [
    "plt.plot(y*y)\n"
   ]
  },
  {
   "cell_type": "code",
   "execution_count": 660,
   "metadata": {},
   "outputs": [
    {
     "data": {
      "text/plain": [
       "[<matplotlib.lines.Line2D at 0x1ae0f8eea30>]"
      ]
     },
     "execution_count": 660,
     "metadata": {},
     "output_type": "execute_result"
    },
    {
     "data": {
      "image/png": "[encoded data removed]",
      "text/plain": [
       "<Figure size 432x288 with 1 Axes>"
      ]
     },
     "metadata": {
      "needs_background": "light"
     },
     "output_type": "display_data"
    }
   ],
   "source": [
    "plt.plot(1/(1+np.exp(y*-1)))"
   ]
  },
  {
   "cell_type": "code",
   "execution_count": 663,
   "metadata": {},
   "outputs": [
    {
     "data": {
      "text/plain": [
       "[<matplotlib.lines.Line2D at 0x1ae0da879d0>]"
      ]
     },
     "execution_count": 663,
     "metadata": {},
     "output_type": "execute_result"
    },
    {
     "data": {
      "image/png": "[encoded data removed]",
      "text/plain": [
       "<Figure size 432x288 with 1 Axes>"
      ]
     },
     "metadata": {
      "needs_background": "light"
     },
     "output_type": "display_data"
    }
   ],
   "source": [
    "def minMax(x:list):\n",
    "    y =[((x1-min(x))/(max(x)-min(x))) for x1 in x]\n",
    "    return y\n",
    "plt.plot(y,minMax(list(y)))"
   ]
  },
  {
   "cell_type": "markdown",
   "metadata": {},
   "source": [
    "## Using Expontential Function"
   ]
  },
  {
   "cell_type": "code",
   "execution_count": 624,
   "metadata": {},
   "outputs": [
    {
     "name": "stdout",
     "output_type": "stream",
     "text": [
      "Threshold 36.78794411714421\n"
     ]
    },
    {
     "data": {
      "image/png": "[encoded data removed]",
      "text/plain": [
       "<Figure size 432x288 with 1 Axes>"
      ]
     },
     "metadata": {
      "needs_background": "light"
     },
     "output_type": "display_data"
    }
   ],
   "source": [
    "exp_data = [np.exp(-x-1)*100 for x in score_pred]\n",
    "th3 = (np.exp(-forest.threshold_-1))*100\n",
    "print(\"Threshold\",th3)\n",
    "# plt.plot(score_pred, exp_data)\n",
    "# plt.xlabel(\"Anomly Score\")\n",
    "# plt.ylabel(\"exp(X)\")\n",
    "plt.hist(exp_data,bins = \"auto\")\n",
    "plt.show()"
   ]
  },
  {
   "cell_type": "markdown",
   "metadata": {},
   "source": [
    "## Means Normalization"
   ]
  },
  {
   "cell_type": "code",
   "execution_count": 629,
   "metadata": {},
   "outputs": [
    {
     "name": "stdout",
     "output_type": "stream",
     "text": [
      "36.7411994395203\n"
     ]
    },
    {
     "data": {
      "text/plain": [
       "Text(0.5, 0, 'Anomly Score')"
      ]
     },
     "execution_count": 629,
     "metadata": {},
     "output_type": "execute_result"
    },
    {
     "data": {
      "image/png": "[encoded data removed]",
      "text/plain": [
       "<Figure size 432x288 with 1 Axes>"
      ]
     },
     "metadata": {
      "needs_background": "light"
     },
     "output_type": "display_data"
    }
   ],
   "source": [
    "mean_normal = sum(score_pred)/len(score_pred)\n",
    "means_normal = [((x-mean_normal)/(max(score_pred)-min(score_pred))) for x in score_pred]\n",
    "subtract = min(means_normal)\n",
    "means_normal = means_normal-subtract\n",
    "means_normal*=100\n",
    "thres = ((forest.threshold_-mean_normal)/(max(score_pred)-min(score_pred)))-subtract\n",
    "print(thres*100)\n",
    "plt.plot(score_pred,means_normal)\n",
    "plt.ylabel(\"Mean Normalization\")\n",
    "plt.xlabel(\"Anomly Score\")\n",
    "# plt.hist(means_normal,bins = \"auto\")\n",
    "# plt.show()"
   ]
  },
  {
   "cell_type": "code",
   "execution_count": 524,
   "metadata": {},
   "outputs": [
    {
     "data": {
      "image/png": "[encoded data removed]",
      "text/plain": [
       "<Figure size 432x288 with 1 Axes>"
      ]
     },
     "metadata": {
      "needs_background": "light"
     },
     "output_type": "display_data"
    }
   ],
   "source": [
    "import matplotlib.pyplot as plt\n",
    "plt.hist(score_pred1, bins='auto')  # arguments are passed to np.histogram\n",
    "plt.title(\"Histogram for Model Forest Anomaly Scores using Min Max Scaling\")\n",
    "plt.show()"
   ]
  },
  {
   "cell_type": "code",
   "execution_count": 525,
   "metadata": {},
   "outputs": [
    {
     "data": {
      "image/png": "[encoded data removed]",
      "text/plain": [
       "<Figure size 432x288 with 1 Axes>"
      ]
     },
     "metadata": {
      "needs_background": "light"
     },
     "output_type": "display_data"
    }
   ],
   "source": [
    "plt.hist(change_data, bins='auto')  # arguments are passed to np.histogram\n",
    "plt.title(\"Histogram for Model Forest Anomaly Scores\")\n",
    "plt.show()"
   ]
  },
  {
   "cell_type": "code",
   "execution_count": 491,
   "metadata": {},
   "outputs": [],
   "source": [
    "dic = {\n",
    "    \"message\": list(df['message']),\n",
    "    \"Score\" : final_score1,\n",
    "    \"id\" : ids,\n",
    "    \"Timestamp\" : df['@timestamp']\n",
    "}\n",
    "store_csv = pd.DataFrame(dic)\n",
    "store_csv.to_csv(r\"C:\\Users\\akesar\\Desktop\\Work\\LogAnalysis\\Logs\\logs.csv\")"
   ]
  },
  {
   "cell_type": "code",
   "execution_count": 492,
   "metadata": {},
   "outputs": [
    {
     "data": {
      "text/html": [
       "<div>\n",
       "<style scoped>\n",
       "    .dataframe tbody tr th:only-of-type {\n",
       "        vertical-align: middle;\n",
       "    }\n",
       "\n",
       "    .dataframe tbody tr th {\n",
       "        vertical-align: top;\n",
       "    }\n",
       "\n",
       "    .dataframe thead th {\n",
       "        text-align: right;\n",
       "    }\n",
       "</style>\n",
       "<table border=\"1\" class=\"dataframe\">\n",
       "  <thead>\n",
       "    <tr style=\"text-align: right;\">\n",
       "      <th></th>\n",
       "      <th>message</th>\n",
       "      <th>Score</th>\n",
       "      <th>id</th>\n",
       "      <th>Timestamp</th>\n",
       "    </tr>\n",
       "  </thead>\n",
       "  <tbody>\n",
       "    <tr>\n",
       "      <th>0</th>\n",
       "      <td>Jan 19 08:57:22 combo rpc.statd[1608]: gethost...</td>\n",
       "      <td>11.992500</td>\n",
       "      <td>cm5gm34Bg76M3xU02R2Q</td>\n",
       "      <td>2022-01-27T11:52:02.249Z</td>\n",
       "    </tr>\n",
       "    <tr>\n",
       "      <th>1</th>\n",
       "      <td>Jan 23 06:57:21 combo sshd(pam_unix)[28729]: a...</td>\n",
       "      <td>31.694216</td>\n",
       "      <td>c25gm34Bg76M3xU02R3k</td>\n",
       "      <td>2022-01-27T11:52:02.447Z</td>\n",
       "    </tr>\n",
       "    <tr>\n",
       "      <th>2</th>\n",
       "      <td>Jan 23 06:57:21 combo sshd(pam_unix)[28734]: a...</td>\n",
       "      <td>31.694216</td>\n",
       "      <td>dG5gm34Bg76M3xU02R3k</td>\n",
       "      <td>2022-01-27T11:52:02.682Z</td>\n",
       "    </tr>\n",
       "    <tr>\n",
       "      <th>3</th>\n",
       "      <td>Jan 23 06:57:29 combo sshd(pam_unix)[28747]: c...</td>\n",
       "      <td>35.759116</td>\n",
       "      <td>dW5gm34Bg76M3xU02R3k</td>\n",
       "      <td>2022-01-27T11:52:02.682Z</td>\n",
       "    </tr>\n",
       "    <tr>\n",
       "      <th>4</th>\n",
       "      <td>Jan 23 06:57:29 combo sshd(pam_unix)[28747]: a...</td>\n",
       "      <td>31.694216</td>\n",
       "      <td>dm5gm34Bg76M3xU02R3k</td>\n",
       "      <td>2022-01-27T11:52:02.682Z</td>\n",
       "    </tr>\n",
       "    <tr>\n",
       "      <th>...</th>\n",
       "      <td>...</td>\n",
       "      <td>...</td>\n",
       "      <td>...</td>\n",
       "      <td>...</td>\n",
       "    </tr>\n",
       "    <tr>\n",
       "      <th>25562</th>\n",
       "      <td>Jun  9 06:06:52 combo messagebus: messagebus s...</td>\n",
       "      <td>15.157501</td>\n",
       "      <td>cG1gm34Bg76M3xU0jcMH</td>\n",
       "      <td>2022-01-27T11:51:41.747Z</td>\n",
       "    </tr>\n",
       "    <tr>\n",
       "      <th>25563</th>\n",
       "      <td>Jun  9 06:07:06 combo httpd: httpd startup suc...</td>\n",
       "      <td>17.542635</td>\n",
       "      <td>cW1gm34Bg76M3xU0jcMH</td>\n",
       "      <td>2022-01-27T11:51:41.747Z</td>\n",
       "    </tr>\n",
       "    <tr>\n",
       "      <th>25564</th>\n",
       "      <td>Jun  9 06:07:07 combo squid[2261]: Squid Paren...</td>\n",
       "      <td>3.575352</td>\n",
       "      <td>cm1gm34Bg76M3xU0jcMH</td>\n",
       "      <td>2022-01-27T11:51:41.749Z</td>\n",
       "    </tr>\n",
       "    <tr>\n",
       "      <th>25565</th>\n",
       "      <td>Jun  9 10:07:13 combo named[2275]: starting BI...</td>\n",
       "      <td>22.786282</td>\n",
       "      <td>c21gm34Bg76M3xU0jcMH</td>\n",
       "      <td>2022-01-27T11:51:41.750Z</td>\n",
       "    </tr>\n",
       "    <tr>\n",
       "      <th>25566</th>\n",
       "      <td>Jun  9 10:07:13 combo named[2275]: using 1 CPU</td>\n",
       "      <td>18.370831</td>\n",
       "      <td>dG1gm34Bg76M3xU0jcMH</td>\n",
       "      <td>2022-01-27T11:51:41.750Z</td>\n",
       "    </tr>\n",
       "  </tbody>\n",
       "</table>\n",
       "<p>25567 rows × 4 columns</p>\n",
       "</div>"
      ],
      "text/plain": [
       "                                                 message      Score  \\\n",
       "0      Jan 19 08:57:22 combo rpc.statd[1608]: gethost...  11.992500   \n",
       "1      Jan 23 06:57:21 combo sshd(pam_unix)[28729]: a...  31.694216   \n",
       "2      Jan 23 06:57:21 combo sshd(pam_unix)[28734]: a...  31.694216   \n",
       "3      Jan 23 06:57:29 combo sshd(pam_unix)[28747]: c...  35.759116   \n",
       "4      Jan 23 06:57:29 combo sshd(pam_unix)[28747]: a...  31.694216   \n",
       "...                                                  ...        ...   \n",
       "25562  Jun  9 06:06:52 combo messagebus: messagebus s...  15.157501   \n",
       "25563  Jun  9 06:07:06 combo httpd: httpd startup suc...  17.542635   \n",
       "25564  Jun  9 06:07:07 combo squid[2261]: Squid Paren...   3.575352   \n",
       "25565  Jun  9 10:07:13 combo named[2275]: starting BI...  22.786282   \n",
       "25566     Jun  9 10:07:13 combo named[2275]: using 1 CPU  18.370831   \n",
       "\n",
       "                         id                 Timestamp  \n",
       "0      cm5gm34Bg76M3xU02R2Q  2022-01-27T11:52:02.249Z  \n",
       "1      c25gm34Bg76M3xU02R3k  2022-01-27T11:52:02.447Z  \n",
       "2      dG5gm34Bg76M3xU02R3k  2022-01-27T11:52:02.682Z  \n",
       "3      dW5gm34Bg76M3xU02R3k  2022-01-27T11:52:02.682Z  \n",
       "4      dm5gm34Bg76M3xU02R3k  2022-01-27T11:52:02.682Z  \n",
       "...                     ...                       ...  \n",
       "25562  cG1gm34Bg76M3xU0jcMH  2022-01-27T11:51:41.747Z  \n",
       "25563  cW1gm34Bg76M3xU0jcMH  2022-01-27T11:51:41.747Z  \n",
       "25564  cm1gm34Bg76M3xU0jcMH  2022-01-27T11:51:41.749Z  \n",
       "25565  c21gm34Bg76M3xU0jcMH  2022-01-27T11:51:41.750Z  \n",
       "25566  dG1gm34Bg76M3xU0jcMH  2022-01-27T11:51:41.750Z  \n",
       "\n",
       "[25567 rows x 4 columns]"
      ]
     },
     "execution_count": 492,
     "metadata": {},
     "output_type": "execute_result"
    }
   ],
   "source": [
    "store_csv"
   ]
  },
  {
   "cell_type": "markdown",
   "metadata": {
    "scrolled": true
   },
   "source": [
    "## DB Scan "
   ]
  },
  {
   "cell_type": "code",
   "execution_count": 87,
   "metadata": {},
   "outputs": [],
   "source": [
    "copied_arr = arr.copy()\n",
    "t2 = time.time();\n",
    "\n",
    "distance_array = pairwise_distances(copied_arr, metric='cosine')"
   ]
  },
  {
   "cell_type": "code",
   "execution_count": 88,
   "metadata": {},
   "outputs": [
    {
     "name": "stdout",
     "output_type": "stream",
     "text": [
      "--- 3.3910324573516846 seconds ---\n"
     ]
    }
   ],
   "source": [
    "clustering = DBSCAN(eps=0.6, min_samples=3, metric='precomputed').fit(distance_array)\n",
    "print(\"--- %s seconds ---\" % (time.time() - t2))\n",
    "\n",
    "val = {\n",
    "    \n",
    "    \"labels\" : list(clustering.labels_),\n",
    "    \"Logs \": final_logs\n",
    "}\n",
    "db = pd.DataFrame(val)"
   ]
  },
  {
   "cell_type": "code",
   "execution_count": 82,
   "metadata": {},
   "outputs": [],
   "source": [
    "cluster = [-2 for x in range(25567)]\n",
    "for log in range(len(final_logs)):\n",
    "    for index in dict1[final_logs[log]]:\n",
    "        cluster[index] = clustering.labels_[log]"
   ]
  },
  {
   "cell_type": "code",
   "execution_count": 83,
   "metadata": {},
   "outputs": [
    {
     "data": {
      "image/png": "[encoded data removed]",
      "text/plain": [
       "<Figure size 432x288 with 1 Axes>"
      ]
     },
     "metadata": {
      "needs_background": "light"
     },
     "output_type": "display_data"
    }
   ],
   "source": [
    "import matplotlib.pyplot as plt\n",
    "plt.scatter([i for i in range(608)],clustering.labels_)\n",
    "plt.xlabel('Documents')\n",
    "plt.ylabel('clusters ')\n",
    "plt.show()"
   ]
  },
  {
   "cell_type": "markdown",
   "metadata": {},
   "source": [
    "## Using MDS"
   ]
  },
  {
   "cell_type": "code",
   "execution_count": 109,
   "metadata": {},
   "outputs": [
    {
     "data": {
      "image/png": "[encoded data removed]",
      "text/plain": [
       "<Figure size 432x288 with 1 Axes>"
      ]
     },
     "metadata": {
      "needs_background": "light"
     },
     "output_type": "display_data"
    }
   ],
   "source": [
    "from sklearn.manifold import MDS\n",
    "from sklearn.preprocessing import MinMaxScaler\n",
    "\n",
    "scaler = MinMaxScaler()\n",
    "X_scaled = scaler.fit_transform(copied_arr)\n",
    "\n",
    "mds = MDS(2)\n",
    "X_2d = mds.fit_transform(X_scaled)\n",
    "\n",
    "X_2d\n",
    "x =[]\n",
    "y =[]\n",
    "for arr in X_2d:\n",
    "    x.append(arr[0])\n",
    "    y.append(arr[1])\n",
    "\n",
    "\n",
    "plt.scatter(x,y)\n",
    "plt.show()\n",
    "\n"
   ]
  },
  {
   "cell_type": "code",
   "execution_count": 110,
   "metadata": {},
   "outputs": [
    {
     "data": {
      "image/png": "[encoded data removed]",
      "text/plain": [
       "<Figure size 480.75x432 with 1 Axes>"
      ]
     },
     "metadata": {
      "needs_background": "light"
     },
     "output_type": "display_data"
    }
   ],
   "source": [
    "df_plot = pd.DataFrame( {'x_axis': x,\n",
    "     'y_axis': y,\n",
    "     'cluster': clustering.labels_\n",
    "    })\n",
    "\n",
    "import seaborn\n",
    "seaborn.FacetGrid(df_plot, hue =\"cluster\", height = 6).map(\n",
    "plt.scatter, 'x_axis', 'y_axis').add_legend()\n",
    "\n",
    "plt.show()"
   ]
  },
  {
   "cell_type": "markdown",
   "metadata": {},
   "source": [
    "## KMeans Clustering"
   ]
  },
  {
   "cell_type": "code",
   "execution_count": 93,
   "metadata": {},
   "outputs": [],
   "source": [
    "from sklearn.cluster import KMeans\n",
    "number_of_clusters=2\n",
    "km = KMeans(n_clusters=number_of_clusters)"
   ]
  },
  {
   "cell_type": "code",
   "execution_count": 94,
   "metadata": {},
   "outputs": [
    {
     "data": {
      "text/plain": [
       "KMeans(n_clusters=2)"
      ]
     },
     "execution_count": 94,
     "metadata": {},
     "output_type": "execute_result"
    }
   ],
   "source": [
    "km.fit(result)"
   ]
  },
  {
   "cell_type": "code",
   "execution_count": 95,
   "metadata": {},
   "outputs": [
    {
     "data": {
      "text/plain": [
       "<bound method KMeans.fit of KMeans(n_clusters=2)>"
      ]
     },
     "execution_count": 95,
     "metadata": {},
     "output_type": "execute_result"
    }
   ],
   "source": [
    "km.fit"
   ]
  },
  {
   "cell_type": "code",
   "execution_count": 96,
   "metadata": {},
   "outputs": [
    {
     "name": "stdout",
     "output_type": "stream",
     "text": [
      "Top terms per cluster:\n",
      "Cluster 0: uiddnodevssh sshdpa failur authent rhostbozesan rhostn rhostcabl rhostrtest rhost rhostap\n",
      "Cluster 1: kernel succeed initi selinux shutdown kill name memori out smartd\n"
     ]
    },
    {
     "name": "stderr",
     "output_type": "stream",
     "text": [
      "C:\\Users\\akesar\\Anaconda3\\lib\\site-packages\\sklearn\\utils\\deprecation.py:87: FutureWarning: Function get_feature_names is deprecated; get_feature_names is deprecated in 1.0 and will be removed in 1.2. Please use get_feature_names_out instead.\n",
      "  warnings.warn(msg, category=FutureWarning)\n"
     ]
    }
   ],
   "source": [
    "print(\"Top terms per cluster:\")\n",
    "order_centroids = km.cluster_centers_.argsort()[:, ::-1]\n",
    "terms = vectorizer.get_feature_names()\n",
    "for i in range(number_of_clusters):\n",
    "    top_ten_words = [terms[ind] for ind in order_centroids[i, :10]]\n",
    "    print(\"Cluster {}: {}\".format(i, ' '.join(top_ten_words)))"
   ]
  },
  {
   "cell_type": "code",
   "execution_count": 97,
   "metadata": {},
   "outputs": [],
   "source": [
    "results = pd.DataFrame()\n",
    "results['text'] = text\n",
    "results['category'] = km.labels_\n",
    "# results"
   ]
  },
  {
   "cell_type": "markdown",
   "metadata": {},
   "source": [
    "## 3 categories"
   ]
  },
  {
   "cell_type": "code",
   "execution_count": 99,
   "metadata": {},
   "outputs": [
    {
     "data": {
      "text/plain": [
       "<bound method KMeans.fit of KMeans(n_clusters=3)>"
      ]
     },
     "execution_count": 99,
     "metadata": {},
     "output_type": "execute_result"
    }
   ],
   "source": [
    "from sklearn.cluster import KMeans\n",
    "\n",
    "number_of_clusters=3\n",
    "km = KMeans(n_clusters=number_of_clusters)\n",
    "# Normally people fit the matrix\n",
    "km.fit(result)\n",
    "km.fit"
   ]
  },
  {
   "cell_type": "code",
   "execution_count": 100,
   "metadata": {},
   "outputs": [],
   "source": [
    "results = pd.DataFrame({\n",
    "    'text': text,\n",
    "    'category': km.labels_\n",
    "})\n",
    "# results"
   ]
  },
  {
   "cell_type": "code",
   "execution_count": 101,
   "metadata": {},
   "outputs": [
    {
     "name": "stdout",
     "output_type": "stream",
     "text": [
      "Top terms per cluster:\n",
      "Cluster 0: uiddnodevssh   sshdpa   failur   authent   rhostbozesan   rhostn   rhostcabl   rhostrtest   rhost   rhostap\n",
      "Cluster 1: out   kill   memori   kernel   procthon   proctg   procskcheck   procrtmap   procond   procndmail\n",
      "Cluster 2: kernel   succeed   initi   selinux   shutdown   name   smartd   session   fail   ntpd\n"
     ]
    },
    {
     "name": "stderr",
     "output_type": "stream",
     "text": [
      "C:\\Users\\akesar\\Anaconda3\\lib\\site-packages\\sklearn\\utils\\deprecation.py:87: FutureWarning: Function get_feature_names is deprecated; get_feature_names is deprecated in 1.0 and will be removed in 1.2. Please use get_feature_names_out instead.\n",
      "  warnings.warn(msg, category=FutureWarning)\n"
     ]
    }
   ],
   "source": [
    "print(\"Top terms per cluster:\")\n",
    "order_centroids = km.cluster_centers_.argsort()[:, ::-1]\n",
    "terms = vectorizer.get_feature_names()\n",
    "for i in range(number_of_clusters):\n",
    "    top_ten_words = [terms[ind] for ind in order_centroids[i, :10]]\n",
    "    print(\"Cluster {}: {}\".format(i, '   '.join(top_ten_words)))"
   ]
  },
  {
   "cell_type": "markdown",
   "metadata": {},
   "source": [
    "## WCSS method"
   ]
  },
  {
   "cell_type": "code",
   "execution_count": 102,
   "metadata": {},
   "outputs": [],
   "source": [
    "wcss_list= [] \n",
    "for i in range(1, 11):  \n",
    "    kmeans = KMeans(n_clusters=i)  \n",
    "    kmeans.fit(result)  \n",
    "    wcss_list.append(kmeans.inertia_)\n"
   ]
  },
  {
   "cell_type": "code",
   "execution_count": 103,
   "metadata": {},
   "outputs": [
    {
     "data": {
      "image/png": "[encoded data removed]",
      "text/plain": [
       "<Figure size 432x288 with 1 Axes>"
      ]
     },
     "metadata": {
      "needs_background": "light"
     },
     "output_type": "display_data"
    }
   ],
   "source": [
    "import matplotlib.pyplot as mtp\n",
    "mtp.plot(range(1, 11), wcss_list)  \n",
    "mtp.title('The Elbow Method Graph')  \n",
    "mtp.xlabel('Number of clusters(k)')  \n",
    "mtp.ylabel('wcss_list')  \n",
    "mtp.show()  "
   ]
  },
  {
   "cell_type": "code",
   "execution_count": 104,
   "metadata": {},
   "outputs": [
    {
     "data": {
      "text/plain": [
       "KMeans(n_clusters=3)"
      ]
     },
     "execution_count": 104,
     "metadata": {},
     "output_type": "execute_result"
    }
   ],
   "source": [
    "from sklearn.cluster import KMeans\n",
    "\n",
    "number_of_clusters=3\n",
    "km = KMeans(n_clusters=number_of_clusters)\n",
    "# Normally people fit the matrix\n",
    "km.fit(result)"
   ]
  },
  {
   "cell_type": "code",
   "execution_count": 105,
   "metadata": {},
   "outputs": [
    {
     "name": "stdout",
     "output_type": "stream",
     "text": [
      "Top terms per cluster:\n",
      "Cluster 0: succeed  shutdown  name  smartd  session  gpm  connect  fail  xinetd  ntpd\n",
      "Cluster 1: uiddnodevssh  sshdpa  failur  authent  rhostbozesan  rhostn  rhostcabl  rhostrtest  rhost  rhostap\n",
      "Cluster 2: kernel  initi  selinux  kill  memori  out  genf  ext  driver  bluetooth\n"
     ]
    },
    {
     "name": "stderr",
     "output_type": "stream",
     "text": [
      "C:\\Users\\akesar\\Anaconda3\\lib\\site-packages\\sklearn\\utils\\deprecation.py:87: FutureWarning: Function get_feature_names is deprecated; get_feature_names is deprecated in 1.0 and will be removed in 1.2. Please use get_feature_names_out instead.\n",
      "  warnings.warn(msg, category=FutureWarning)\n"
     ]
    }
   ],
   "source": [
    "print(\"Top terms per cluster:\")\n",
    "order_centroids = km.cluster_centers_.argsort()[:, ::-1]\n",
    "terms = vectorizer.get_feature_names()\n",
    "for i in range(number_of_clusters):\n",
    "    top_ten_words = [terms[ind] for ind in order_centroids[i, :10]]\n",
    "    print(\"Cluster {}: {}\".format(i, '  '.join(top_ten_words)))"
   ]
  },
  {
   "cell_type": "code",
   "execution_count": 106,
   "metadata": {},
   "outputs": [
    {
     "data": {
      "text/plain": [
       "array([[726, 690, 411, ..., 507, 505,   0],\n",
       "       [780, 714, 210, ..., 489, 488,   0],\n",
       "       [345, 303, 672, ..., 650, 395, 304]], dtype=int64)"
      ]
     },
     "execution_count": 106,
     "metadata": {},
     "output_type": "execute_result"
    }
   ],
   "source": [
    "order_centroids"
   ]
  },
  {
   "cell_type": "code",
   "execution_count": 56,
   "metadata": {},
   "outputs": [
    {
     "data": {
      "text/plain": [
       "array([[726, 239,  47, ..., 434, 812, 517],\n",
       "       [371, 470, 418, ..., 561, 560,   0],\n",
       "       [268, 133, 851, ..., 563, 562,   0]], dtype=int64)"
      ]
     },
     "execution_count": 56,
     "metadata": {},
     "output_type": "execute_result"
    }
   ],
   "source": [
    "km.cluster_centers_.argsort()[:,::-1]"
   ]
  },
  {
   "cell_type": "markdown",
   "metadata": {},
   "source": [
    "## Time taken by each algorithm"
   ]
  },
  {
   "cell_type": "code",
   "execution_count": 628,
   "metadata": {},
   "outputs": [
    {
     "data": {
      "text/html": [
       "<div>\n",
       "<style scoped>\n",
       "    .dataframe tbody tr th:only-of-type {\n",
       "        vertical-align: middle;\n",
       "    }\n",
       "\n",
       "    .dataframe tbody tr th {\n",
       "        vertical-align: top;\n",
       "    }\n",
       "\n",
       "    .dataframe thead th {\n",
       "        text-align: right;\n",
       "    }\n",
       "</style>\n",
       "<table border=\"1\" class=\"dataframe\">\n",
       "  <thead>\n",
       "    <tr style=\"text-align: right;\">\n",
       "      <th></th>\n",
       "      <th>algorithm</th>\n",
       "      <th>Time in seconds</th>\n",
       "    </tr>\n",
       "  </thead>\n",
       "  <tbody>\n",
       "    <tr>\n",
       "      <th>0</th>\n",
       "      <td>TFIDF</td>\n",
       "      <td>0.21</td>\n",
       "    </tr>\n",
       "    <tr>\n",
       "      <th>1</th>\n",
       "      <td>DBSCAN</td>\n",
       "      <td>0.04</td>\n",
       "    </tr>\n",
       "    <tr>\n",
       "      <th>2</th>\n",
       "      <td>Isolation Forest</td>\n",
       "      <td>130.00</td>\n",
       "    </tr>\n",
       "    <tr>\n",
       "      <th>3</th>\n",
       "      <td>HBOS</td>\n",
       "      <td>3.92</td>\n",
       "    </tr>\n",
       "  </tbody>\n",
       "</table>\n",
       "</div>"
      ],
      "text/plain": [
       "           algorithm  Time in seconds \n",
       "0              TFIDF              0.21\n",
       "1             DBSCAN              0.04\n",
       "2  Isolation Forest             130.00\n",
       "3               HBOS              3.92"
      ]
     },
     "execution_count": 628,
     "metadata": {},
     "output_type": "execute_result"
    }
   ],
   "source": [
    "val1 = {\n",
    "    \"algorithm\" : [\"TFIDF\",\"DBSCAN\",\"Isolation Forest \",\"HBOS\"],\n",
    "    \"Time in seconds \" : [0.21,0.04,130,3.92]\n",
    "    \n",
    "}\n",
    "pd.DataFrame(val1)\n"
   ]
  },
  {
   "cell_type": "code",
   "execution_count": 627,
   "metadata": {},
   "outputs": [
    {
     "data": {
      "text/html": [
       "<div>\n",
       "<style scoped>\n",
       "    .dataframe tbody tr th:only-of-type {\n",
       "        vertical-align: middle;\n",
       "    }\n",
       "\n",
       "    .dataframe tbody tr th {\n",
       "        vertical-align: top;\n",
       "    }\n",
       "\n",
       "    .dataframe thead th {\n",
       "        text-align: right;\n",
       "    }\n",
       "</style>\n",
       "<table border=\"1\" class=\"dataframe\">\n",
       "  <thead>\n",
       "    <tr style=\"text-align: right;\">\n",
       "      <th></th>\n",
       "      <th>Algorithm</th>\n",
       "      <th>Threshold</th>\n",
       "    </tr>\n",
       "  </thead>\n",
       "  <tbody>\n",
       "    <tr>\n",
       "      <th>0</th>\n",
       "      <td>Min Max Scaling</td>\n",
       "      <td>36.74</td>\n",
       "    </tr>\n",
       "    <tr>\n",
       "      <th>1</th>\n",
       "      <td>Z score</td>\n",
       "      <td>13.30</td>\n",
       "    </tr>\n",
       "    <tr>\n",
       "      <th>2</th>\n",
       "      <td>Sigmoid function</td>\n",
       "      <td>50.00</td>\n",
       "    </tr>\n",
       "    <tr>\n",
       "      <th>3</th>\n",
       "      <td>Expontential Func</td>\n",
       "      <td>36.78</td>\n",
       "    </tr>\n",
       "    <tr>\n",
       "      <th>4</th>\n",
       "      <td>Means normalization</td>\n",
       "      <td>13.00</td>\n",
       "    </tr>\n",
       "  </tbody>\n",
       "</table>\n",
       "</div>"
      ],
      "text/plain": [
       "             Algorithm  Threshold\n",
       "0      Min Max Scaling      36.74\n",
       "1              Z score      13.30\n",
       "2     Sigmoid function      50.00\n",
       "3    Expontential Func      36.78\n",
       "4  Means normalization      13.00"
      ]
     },
     "execution_count": 627,
     "metadata": {},
     "output_type": "execute_result"
    }
   ],
   "source": [
    "val2 = {\n",
    "    \"Algorithm\" : [\"Min Max Scaling\",\"Z score\",\"Sigmoid function\",\"Expontential Func\",\"Means normalization\"],\n",
    "    \"Threshold\": [36.74,13.3,50,36.78,36.74]\n",
    "}\n",
    "pd.DataFrame(val2)"
   ]
  },
  {
   "cell_type": "code",
   "execution_count": 121,
   "metadata": {},
   "outputs": [
    {
     "data": {
      "text/plain": [
       "{'name': 'IN-AKESAR-W1',\n",
       " 'cluster_name': 'elasticsearch',\n",
       " 'cluster_uuid': 'K9O8V1NkRA-EljjkSe7CTg',\n",
       " 'version': {'number': '7.16.2',\n",
       "  'build_flavor': 'default',\n",
       "  'build_type': 'zip',\n",
       "  'build_hash': '2b937c44140b6559905130a8650c64dbd0879cfb',\n",
       "  'build_date': '2021-12-18T19:42:46.604893745Z',\n",
       "  'build_snapshot': False,\n",
       "  'lucene_version': '8.10.1',\n",
       "  'minimum_wire_compatibility_version': '6.8.0',\n",
       "  'minimum_index_compatibility_version': '6.0.0-beta1'},\n",
       " 'tagline': 'You Know, for Search'}"
      ]
     },
     "execution_count": 121,
     "metadata": {},
     "output_type": "execute_result"
    }
   ],
   "source": [
    "es.info()"
   ]
  },
  {
   "cell_type": "code",
   "execution_count": 123,
   "metadata": {},
   "outputs": [],
   "source": [
    "# start = time.time()\n",
    "# # iterate over the list of documents\n",
    "# for i in range(len(ids)):\n",
    "#     try:\n",
    "#         # call the Update method\n",
    "#         update_response = es.update(\n",
    "#         index='%{type}-2022.01.27',\n",
    "#         doc_type=\"_doc\",\n",
    "#         id=ids[i],\n",
    "#         body={\"doc\" : { \n",
    "#         \"score\" :score_pred1[i] ,\n",
    "#         \"cluster\" : cluster[i]\n",
    "#         }\n",
    "#              }\n",
    "#         )\n",
    "\n",
    "#         # print the response to screen\n",
    "#         print (update_response, '\\n\\n')\n",
    "        \n",
    "#     except Exception as err:\n",
    "#         print ('Elasticsearch Update API error:', err)\n",
    "# end = time.time()\n",
    "# print(\"The time for execution:\",end-start)"
   ]
  },
  {
   "cell_type": "code",
   "execution_count": null,
   "metadata": {},
   "outputs": [],
   "source": []
  }
 ],
 "metadata": {
  "interpreter": {
   "hash": "777ac3220d56c49a96724f5060994578b9f53f3d4bdd42da3b08b6165829f144"
  },
  "kernelspec": {
   "display_name": "Python 3 (ipykernel)",
   "language": "python",
   "name": "python3"
  },
  "language_info": {
   "codemirror_mode": {
    "name": "ipython",
    "version": 3
   },
   "file_extension": ".py",
   "mimetype": "text/x-python",
   "name": "python",
   "nbconvert_exporter": "python",
   "pygments_lexer": "ipython3",
   "version": "3.9.7"
  }
 },
 "nbformat": 4,
 "nbformat_minor": 2
}

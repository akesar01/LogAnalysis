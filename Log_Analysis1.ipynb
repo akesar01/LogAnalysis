{
 "cells": [
  {
   "cell_type": "markdown",
   "metadata": {},
   "source": [
    "# Import all Libraries"
   ]
  },
  {
   "cell_type": "code",
   "execution_count": 1,
   "metadata": {},
   "outputs": [],
   "source": [
    "import numpy as np\n",
    "import pandas as pd\n",
    "from elasticsearch import Elasticsearch\n",
    "from elasticsearch.helpers import scan"
   ]
  },
  {
   "cell_type": "markdown",
   "metadata": {},
   "source": [
    "# Connect to Elastic Search"
   ]
  },
  {
   "cell_type": "code",
   "execution_count": 2,
   "metadata": {},
   "outputs": [],
   "source": [
    "# create a client instance of the library\n",
    "es = Elasticsearch(host='localhost', port=9200)"
   ]
  },
  {
   "cell_type": "markdown",
   "metadata": {},
   "source": [
    "# Function to fetch the Ids and their Respective Messages"
   ]
  },
  {
   "cell_type": "code",
   "execution_count": 3,
   "metadata": {},
   "outputs": [],
   "source": [
    "def get_data_from_elastic():\n",
    "    # query: The elasticsearch query.\n",
    "    query = {\n",
    "    \n",
    "    }\n",
    "    # Scan function to get all the data. \n",
    "    response = scan(client=es,             \n",
    "               query=query,                                     \n",
    "               scroll='2m',\n",
    "               index='*.27',\n",
    "               raise_on_error=True,\n",
    "               preserve_order=False,\n",
    "               clear_scroll=True)\n",
    "\n",
    "    # Keep response in a list.\n",
    "    result = list(response)\n",
    "    print(\"! \",result)\n",
    "    ids =[]\n",
    "    for i in range(len(result)):\n",
    "        ids.append(result[i][\"_id\"])\n",
    "    temp = []\n",
    "    \n",
    "    # We need only '_source', which has all the fields required.\n",
    "    for hit in result:\n",
    "        \n",
    "        temp.append(hit['_source'])\n",
    "    # Create a dataframe.\n",
    "    df = pd.DataFrame(temp)\n",
    "\n",
    "    return (ids,df)"
   ]
  },
  {
   "cell_type": "code",
   "execution_count": 4,
   "metadata": {},
   "outputs": [
    {
     "name": "stderr",
     "output_type": "stream",
     "text": [
      "C:\\Users\\akesar\\Anaconda3\\lib\\site-packages\\elasticsearch\\connection\\base.py:200: ElasticsearchWarning: Elasticsearch built-in security features are not enabled. Without authentication, your cluster could be accessible to anyone. See https://www.elastic.co/guide/en/elasticsearch/reference/7.16/security-minimal-setup.html to enable security.\n",
      "  warnings.warn(message, category=ElasticsearchWarning)\n",
      "IOPub data rate exceeded.\n",
      "The notebook server will temporarily stop sending output\n",
      "to the client in order to avoid crashing it.\n",
      "To change this limit, set the config variable\n",
      "`--NotebookApp.iopub_data_rate_limit`.\n",
      "\n",
      "Current values:\n",
      "NotebookApp.iopub_data_rate_limit=1000000.0 (bytes/sec)\n",
      "NotebookApp.rate_limit_window=3.0 (secs)\n",
      "\n"
     ]
    }
   ],
   "source": [
    "lol = get_data_from_elastic()\n",
    "ids = lol[0]\n",
    "df = lol[1]"
   ]
  },
  {
   "cell_type": "code",
   "execution_count": 6,
   "metadata": {},
   "outputs": [],
   "source": [
    "# print(*ids)"
   ]
  },
  {
   "cell_type": "code",
   "execution_count": null,
   "metadata": {
    "scrolled": true
   },
   "outputs": [],
   "source": [
    "#First 1000 data from the DataFrame\n",
    "df.head(1000)"
   ]
  },
  {
   "cell_type": "code",
   "execution_count": 5,
   "metadata": {},
   "outputs": [
    {
     "data": {
      "text/plain": [
       "'Jan 23 06:57:21 combo sshd(pam_unix)[28729]: authentication failure; logname= uid=0 euid=0 tty=NODEVssh ruser= rhost=202.127.25.130 '"
      ]
     },
     "execution_count": 5,
     "metadata": {},
     "output_type": "execute_result"
    }
   ],
   "source": [
    "#Meassage Example\n",
    "df['message'][1]"
   ]
  },
  {
   "cell_type": "code",
   "execution_count": 6,
   "metadata": {},
   "outputs": [],
   "source": [
    "#Get the message list from the dataFrame for Text Cleaning, Tokenization,etc.\n",
    "msg_list = list(df['message'])\n",
    "# for i in range(len(msg_list)):\n",
    "#     print(msg_list[i])"
   ]
  },
  {
   "cell_type": "code",
   "execution_count": 7,
   "metadata": {},
   "outputs": [],
   "source": [
    "for msg in msg_list:\n",
    "    #To replace \\220 with another value\n",
    "    msg.replace('\\220','>')"
   ]
  },
  {
   "cell_type": "markdown",
   "metadata": {},
   "source": [
    "# Text Cleaning"
   ]
  },
  {
   "cell_type": "code",
   "execution_count": 8,
   "metadata": {},
   "outputs": [],
   "source": [
    "import re\n",
    "import html\n",
    "\n",
    "clean_msg_list=[]\n",
    "for msg in msg_list:\n",
    "    #Various regular expressions to clean the message data\n",
    "    #To remove the word combo from the msgs\n",
    "    msg = re.sub('combo',\"\",msg)\n",
    "    #To remove various emailIds\n",
    "    msg = re.sub(r'^[a-zA-Z0-9_.+-]+@[a-zA-Z0-9-]+\\.[a-zA-Z0-9-.]+$',' ',msg)\n",
    "    #To remove the hyperlinks\n",
    "    msg = re.sub(r'https?:\\/\\/.\\S+', \" \", msg)\n",
    "    \n",
    "    #To remove the date and time from the msgs\n",
    "    #Format = Time(HH:MM:SS)\n",
    "    msg = re.sub(r'(\\d)?\\d:\\d\\d:\\d\\d','',msg)\n",
    "    #Format = Date(Int)(MM/DD/YYYY)/(MM-DD-YYYY)/(MM.DD.YYYY)/(MM DD YYYY)\n",
    "    msg = re.sub(r'(0?[1-9]|1[012])[- /.](0?[1-9]|[12][0-9]|3[01])[- /.](19|20)?[0-9]{2}( )?$','',msg)\n",
    "    #Format = Date(Int)(DD/MM/YYYY)/(DD-MM-YYYY)/(DD.MM.YYYY)/(DD MM YYYY)\n",
    "    msg = re.sub(r'(0?[1-9]|[12][0-9]|3[01])[- /.](0?[1-9]|1[012])[- /.](19|20)?[0-9]{2}( )?$','',msg)\n",
    "    #Format = Date(Int)(YYYY/MM/DD/)/(YYYY-MM-DD)/(YYYY.MM.DD)/(YYYY MM DD)\n",
    "    msg = re.sub(r'(19|20)?[0-9]{2}[- /.](0?[1-9]|1[012])[- /.](0?[1-9]|[12][0-9]|3[01])( )?$','',msg)\n",
    "    #Format = Date(Int) MOnth(Str) Year(Int)\n",
    "    msg = re.sub(r'(\\d)?\\d( )? \\S\\S\\S( )?','',msg)\n",
    "    #Format = Month(Str) Date(Int)\n",
    "    msg = re.sub(r'\\S\\S\\S( )? (\\d)?\\d( )?','',msg)\n",
    "    #Format = Day(Str) Month(Str) Date(Int) Year(YYYY)\n",
    "    msg = re.sub(r'(\\S\\S\\S )?(\\S\\S\\S )?(\\S\\S\\S)?( )? (\\d\\d\\d\\d)?$','',msg)\n",
    "    #Format = MOnth(Str) Date(Int) Year(Int)\n",
    "    msg = re.sub(r'\\S\\S\\S( )?[- /.](\\d)?\\d( )?[- /.](\\d\\d\\d\\d)?$','',msg)\n",
    "    #Format = Date(Int) MOnth(Str) Year(Int)\n",
    "    msg = re.sub(r'(\\d)?\\d( )?[- /.]\\S\\S\\S( )?[- /.](\\d\\d\\d\\d)?$','',msg)\n",
    "    #Format = Year(Int) Month(Str) Date(Int)\n",
    "    msg = re.sub(r'\\d\\d\\d\\d( )?[- /.]\\S\\S\\S( )?[- /.](\\d)?\\d( )?$','',msg)\n",
    "    \n",
    "    #To remove IP Addresses\n",
    "    msg = re.sub(r'((?:(?:25[0-5]|2[0-4]\\d|((1\\d{2})|([1-9]?\\d)))\\.){3}(?:25[0-5]|2[0-4]\\d|((1\\d{2})|([1-9]?\\d))))','',msg)\n",
    "    #To remove any substring of #%abc42 type\n",
    "    msg = re.sub('\\%\\w+','',msg) \n",
    "    msg = re.sub('\\S_\\S+','',msg)\n",
    "    #To remove ... special characters from the msgs\n",
    "    msg = re.sub('\\...+','',msg)\n",
    "    #To remove � from the msgs\n",
    "    msg = re.sub(r'\\S\\�+','',msg)\n",
    "    #To remove punctuation\n",
    "    msg = re.sub(r'[^\\w\\s]','',msg)\n",
    "    #To remove digits\n",
    "    msg = re.sub(r'[0-9\\n]','',msg)\n",
    "    #To remove leading and trailing whitespace character\n",
    "    msg = re.sub(r'^\\s*|\\s*$','',msg)\n",
    "    #To remove Blank Lines\n",
    "    msg = re.sub(r'\\n\\s*\\r ','',msg)\n",
    "    #To remove any html links\n",
    "    msg= html.unescape(msg)\n",
    "    clean_msg_list.append(msg)"
   ]
  },
  {
   "cell_type": "code",
   "execution_count": null,
   "metadata": {},
   "outputs": [],
   "source": []
  },
  {
   "cell_type": "markdown",
   "metadata": {},
   "source": [
    "# Tokenization"
   ]
  },
  {
   "cell_type": "code",
   "execution_count": 9,
   "metadata": {},
   "outputs": [],
   "source": [
    "#Word tokenization\n",
    "import nltk\n",
    "from nltk.corpus import stopwords\n",
    "from nltk import word_tokenize\n",
    "\n",
    "\n",
    "stop_words = list(set(stopwords.words('english')))\n",
    "stop_words = stop_words+['logname', 'uid','eth','euid','PCI','node','Privacy','IRQ','ttyNODEVssh', 'ruser','rhostjwhp5','IPv','tables','Microcode', 'Driver','Hash', 'interface','family','httpd','info', 'mice','check','pass','cache','spamd','bytes','syslog','klogd','BIOS','protocol','NET','md','arrays','filesystem','CPU','user', 'cyrus','dev', 'type', 'ext3', 'uses','others','internal', 'service','already','floppy','syslogd','ip_tables','startup','use','NET', 'Registered', 'Revision','CDROM', 'drive','hda']\n",
    "new_Doc=[]\n",
    "for msg in clean_msg_list:\n",
    "    nltk_tokens = nltk.word_tokenize(msg)\n",
    "    filtered_sentence = []\n",
    "    for w in nltk_tokens:\n",
    "        if w not in stop_words:\n",
    "            filtered_sentence.append(w)\n",
    "    new_Doc.append(filtered_sentence)\n",
    "# print(new_Doc)        "
   ]
  },
  {
   "cell_type": "markdown",
   "metadata": {},
   "source": [
    "# More research on domain stop words."
   ]
  },
  {
   "cell_type": "markdown",
   "metadata": {},
   "source": [
    "# Stemming"
   ]
  },
  {
   "cell_type": "code",
   "execution_count": 10,
   "metadata": {},
   "outputs": [],
   "source": [
    "# from nltk.stem.wordnet import WordNetLemmatizer as wl\n",
    "from nltk.stem import PorterStemmer\n",
    "# wordnet = wl()\n",
    "porter = PorterStemmer()\n",
    "\n",
    "doc =[]\n",
    "for docs in new_Doc:\n",
    "    arr =[]\n",
    "    for word in docs:\n",
    "        arr.append(porter.stem(word))\n",
    "#         arr.append(wordnet.lemmatize(word))\n",
    "    doc.append(arr)\n"
   ]
  },
  {
   "cell_type": "markdown",
   "metadata": {},
   "source": [
    "# Re-Formation/DeTokenization"
   ]
  },
  {
   "cell_type": "code",
   "execution_count": null,
   "metadata": {},
   "outputs": [],
   "source": []
  },
  {
   "cell_type": "code",
   "execution_count": 11,
   "metadata": {},
   "outputs": [],
   "source": [
    "from sacremoses import MosesDetokenizer\n",
    "\n",
    "parsed_logs=[]\n",
    "for words in doc:\n",
    "    if words ==\"\":\n",
    "        continue\n",
    "    detokens = MosesDetokenizer().detokenize(words, return_str=True)\n",
    "    if detokens ==\"\":\n",
    "        continue\n",
    "    parsed_logs.append(detokens)"
   ]
  },
  {
   "cell_type": "code",
   "execution_count": null,
   "metadata": {},
   "outputs": [],
   "source": []
  },
  {
   "cell_type": "code",
   "execution_count": null,
   "metadata": {},
   "outputs": [],
   "source": []
  },
  {
   "cell_type": "code",
   "execution_count": null,
   "metadata": {},
   "outputs": [],
   "source": []
  },
  {
   "cell_type": "code",
   "execution_count": null,
   "metadata": {},
   "outputs": [],
   "source": []
  },
  {
   "cell_type": "code",
   "execution_count": null,
   "metadata": {},
   "outputs": [],
   "source": []
  },
  {
   "cell_type": "code",
   "execution_count": null,
   "metadata": {},
   "outputs": [],
   "source": []
  },
  {
   "cell_type": "code",
   "execution_count": null,
   "metadata": {},
   "outputs": [],
   "source": []
  },
  {
   "cell_type": "markdown",
   "metadata": {},
   "source": [
    "# TFIDF Differentiation\n"
   ]
  },
  {
   "cell_type": "code",
   "execution_count": 12,
   "metadata": {},
   "outputs": [],
   "source": [
    "final_logs = list(set(parsed_logs))"
   ]
  },
  {
   "cell_type": "code",
   "execution_count": 25,
   "metadata": {},
   "outputs": [
    {
     "data": {
      "text/plain": [
       "607"
      ]
     },
     "execution_count": 25,
     "metadata": {},
     "output_type": "execute_result"
    }
   ],
   "source": [
    "len(final_logs)"
   ]
  },
  {
   "cell_type": "code",
   "execution_count": null,
   "metadata": {},
   "outputs": [],
   "source": []
  },
  {
   "cell_type": "code",
   "execution_count": null,
   "metadata": {},
   "outputs": [],
   "source": [
    "\n"
   ]
  },
  {
   "cell_type": "markdown",
   "metadata": {},
   "source": [
    "### The purpose of TF - IDF is to highlight words which are frequent  in a document but not cross document"
   ]
  },
  {
   "cell_type": "code",
   "execution_count": 15,
   "metadata": {},
   "outputs": [],
   "source": [
    "from sklearn.feature_extraction.text import TfidfVectorizer\n",
    "\n",
    "text = final_logs"
   ]
  },
  {
   "cell_type": "code",
   "execution_count": 16,
   "metadata": {},
   "outputs": [],
   "source": [
    "vectorizer = TfidfVectorizer()"
   ]
  },
  {
   "cell_type": "code",
   "execution_count": 17,
   "metadata": {},
   "outputs": [],
   "source": [
    "result = vectorizer.fit_transform(text)"
   ]
  },
  {
   "cell_type": "code",
   "execution_count": 18,
   "metadata": {},
   "outputs": [],
   "source": [
    "# print(vectorizer.idf_)"
   ]
  },
  {
   "cell_type": "code",
   "execution_count": 19,
   "metadata": {},
   "outputs": [],
   "source": [
    "# print(vectorizer.vocabulary_)"
   ]
  },
  {
   "cell_type": "code",
   "execution_count": 20,
   "metadata": {},
   "outputs": [],
   "source": [
    "lol = [(k, vectorizer.vocabulary_[k]) for k in vectorizer.vocabulary_]"
   ]
  },
  {
   "cell_type": "code",
   "execution_count": null,
   "metadata": {},
   "outputs": [],
   "source": []
  },
  {
   "cell_type": "code",
   "execution_count": 128,
   "metadata": {},
   "outputs": [],
   "source": [
    "arr = result.toarray()\n"
   ]
  },
  {
   "cell_type": "code",
   "execution_count": 23,
   "metadata": {},
   "outputs": [
    {
     "name": "stderr",
     "output_type": "stream",
     "text": [
      "C:\\Users\\akesar\\Anaconda3\\lib\\site-packages\\sklearn\\utils\\deprecation.py:87: FutureWarning: Function get_feature_names is deprecated; get_feature_names is deprecated in 1.0 and will be removed in 1.2. Please use get_feature_names_out instead.\n",
      "  warnings.warn(msg, category=FutureWarning)\n"
     ]
    }
   ],
   "source": [
    "idf_df = pd.DataFrame(result.toarray(),columns=vectorizer.get_feature_names())"
   ]
  },
  {
   "cell_type": "code",
   "execution_count": 24,
   "metadata": {},
   "outputs": [
    {
     "data": {
      "text/html": [
       "<div>\n",
       "<style scoped>\n",
       "    .dataframe tbody tr th:only-of-type {\n",
       "        vertical-align: middle;\n",
       "    }\n",
       "\n",
       "    .dataframe tbody tr th {\n",
       "        vertical-align: top;\n",
       "    }\n",
       "\n",
       "    .dataframe thead th {\n",
       "        text-align: right;\n",
       "    }\n",
       "</style>\n",
       "<table border=\"1\" class=\"dataframe\">\n",
       "  <thead>\n",
       "    <tr style=\"text-align: right;\">\n",
       "      <th></th>\n",
       "      <th>aa</th>\n",
       "      <th>aabl</th>\n",
       "      <th>abef</th>\n",
       "      <th>abnorm</th>\n",
       "      <th>ac</th>\n",
       "      <th>acc</th>\n",
       "      <th>accept</th>\n",
       "      <th>access</th>\n",
       "      <th>acpi</th>\n",
       "      <th>acpiforc</th>\n",
       "      <th>...</th>\n",
       "      <th>xffaxffaf</th>\n",
       "      <th>xfq</th>\n",
       "      <th>xfxfxf</th>\n",
       "      <th>xinetd</th>\n",
       "      <th>xx</th>\n",
       "      <th>xxx</th>\n",
       "      <th>you</th>\n",
       "      <th>zap</th>\n",
       "      <th>zoe</th>\n",
       "      <th>zone</th>\n",
       "    </tr>\n",
       "  </thead>\n",
       "  <tbody>\n",
       "    <tr>\n",
       "      <th>0</th>\n",
       "      <td>0.0</td>\n",
       "      <td>0.0</td>\n",
       "      <td>0.0</td>\n",
       "      <td>0.0</td>\n",
       "      <td>0.0</td>\n",
       "      <td>0.0</td>\n",
       "      <td>0.0</td>\n",
       "      <td>0.0</td>\n",
       "      <td>0.0</td>\n",
       "      <td>0.0</td>\n",
       "      <td>...</td>\n",
       "      <td>0.0</td>\n",
       "      <td>0.0</td>\n",
       "      <td>0.0</td>\n",
       "      <td>0.0</td>\n",
       "      <td>0.0</td>\n",
       "      <td>0.0</td>\n",
       "      <td>0.0</td>\n",
       "      <td>0.0</td>\n",
       "      <td>0.0</td>\n",
       "      <td>0.0</td>\n",
       "    </tr>\n",
       "    <tr>\n",
       "      <th>1</th>\n",
       "      <td>0.0</td>\n",
       "      <td>0.0</td>\n",
       "      <td>0.0</td>\n",
       "      <td>0.0</td>\n",
       "      <td>0.0</td>\n",
       "      <td>0.0</td>\n",
       "      <td>0.0</td>\n",
       "      <td>0.0</td>\n",
       "      <td>0.0</td>\n",
       "      <td>0.0</td>\n",
       "      <td>...</td>\n",
       "      <td>0.0</td>\n",
       "      <td>0.0</td>\n",
       "      <td>0.0</td>\n",
       "      <td>0.0</td>\n",
       "      <td>0.0</td>\n",
       "      <td>0.0</td>\n",
       "      <td>0.0</td>\n",
       "      <td>0.0</td>\n",
       "      <td>0.0</td>\n",
       "      <td>0.0</td>\n",
       "    </tr>\n",
       "    <tr>\n",
       "      <th>2</th>\n",
       "      <td>0.0</td>\n",
       "      <td>0.0</td>\n",
       "      <td>0.0</td>\n",
       "      <td>0.0</td>\n",
       "      <td>0.0</td>\n",
       "      <td>0.0</td>\n",
       "      <td>0.0</td>\n",
       "      <td>0.0</td>\n",
       "      <td>0.0</td>\n",
       "      <td>0.0</td>\n",
       "      <td>...</td>\n",
       "      <td>0.0</td>\n",
       "      <td>0.0</td>\n",
       "      <td>0.0</td>\n",
       "      <td>0.0</td>\n",
       "      <td>0.0</td>\n",
       "      <td>0.0</td>\n",
       "      <td>0.0</td>\n",
       "      <td>0.0</td>\n",
       "      <td>0.0</td>\n",
       "      <td>0.0</td>\n",
       "    </tr>\n",
       "    <tr>\n",
       "      <th>3</th>\n",
       "      <td>0.0</td>\n",
       "      <td>0.0</td>\n",
       "      <td>0.0</td>\n",
       "      <td>0.0</td>\n",
       "      <td>0.0</td>\n",
       "      <td>0.0</td>\n",
       "      <td>0.0</td>\n",
       "      <td>0.0</td>\n",
       "      <td>0.0</td>\n",
       "      <td>0.0</td>\n",
       "      <td>...</td>\n",
       "      <td>0.0</td>\n",
       "      <td>0.0</td>\n",
       "      <td>0.0</td>\n",
       "      <td>0.0</td>\n",
       "      <td>0.0</td>\n",
       "      <td>0.0</td>\n",
       "      <td>0.0</td>\n",
       "      <td>0.0</td>\n",
       "      <td>0.0</td>\n",
       "      <td>0.0</td>\n",
       "    </tr>\n",
       "    <tr>\n",
       "      <th>4</th>\n",
       "      <td>0.0</td>\n",
       "      <td>0.0</td>\n",
       "      <td>0.0</td>\n",
       "      <td>0.0</td>\n",
       "      <td>0.0</td>\n",
       "      <td>0.0</td>\n",
       "      <td>0.0</td>\n",
       "      <td>0.0</td>\n",
       "      <td>0.0</td>\n",
       "      <td>0.0</td>\n",
       "      <td>...</td>\n",
       "      <td>0.0</td>\n",
       "      <td>0.0</td>\n",
       "      <td>0.0</td>\n",
       "      <td>0.0</td>\n",
       "      <td>0.0</td>\n",
       "      <td>0.0</td>\n",
       "      <td>0.0</td>\n",
       "      <td>0.0</td>\n",
       "      <td>0.0</td>\n",
       "      <td>0.0</td>\n",
       "    </tr>\n",
       "    <tr>\n",
       "      <th>...</th>\n",
       "      <td>...</td>\n",
       "      <td>...</td>\n",
       "      <td>...</td>\n",
       "      <td>...</td>\n",
       "      <td>...</td>\n",
       "      <td>...</td>\n",
       "      <td>...</td>\n",
       "      <td>...</td>\n",
       "      <td>...</td>\n",
       "      <td>...</td>\n",
       "      <td>...</td>\n",
       "      <td>...</td>\n",
       "      <td>...</td>\n",
       "      <td>...</td>\n",
       "      <td>...</td>\n",
       "      <td>...</td>\n",
       "      <td>...</td>\n",
       "      <td>...</td>\n",
       "      <td>...</td>\n",
       "      <td>...</td>\n",
       "      <td>...</td>\n",
       "    </tr>\n",
       "    <tr>\n",
       "      <th>602</th>\n",
       "      <td>0.0</td>\n",
       "      <td>0.0</td>\n",
       "      <td>0.0</td>\n",
       "      <td>0.0</td>\n",
       "      <td>0.0</td>\n",
       "      <td>0.0</td>\n",
       "      <td>0.0</td>\n",
       "      <td>0.0</td>\n",
       "      <td>0.0</td>\n",
       "      <td>0.0</td>\n",
       "      <td>...</td>\n",
       "      <td>0.0</td>\n",
       "      <td>0.0</td>\n",
       "      <td>0.0</td>\n",
       "      <td>0.0</td>\n",
       "      <td>0.0</td>\n",
       "      <td>0.0</td>\n",
       "      <td>0.0</td>\n",
       "      <td>0.0</td>\n",
       "      <td>0.0</td>\n",
       "      <td>0.0</td>\n",
       "    </tr>\n",
       "    <tr>\n",
       "      <th>603</th>\n",
       "      <td>0.0</td>\n",
       "      <td>0.0</td>\n",
       "      <td>0.0</td>\n",
       "      <td>0.0</td>\n",
       "      <td>0.0</td>\n",
       "      <td>0.0</td>\n",
       "      <td>0.0</td>\n",
       "      <td>0.0</td>\n",
       "      <td>0.0</td>\n",
       "      <td>0.0</td>\n",
       "      <td>...</td>\n",
       "      <td>0.0</td>\n",
       "      <td>0.0</td>\n",
       "      <td>0.0</td>\n",
       "      <td>0.0</td>\n",
       "      <td>0.0</td>\n",
       "      <td>0.0</td>\n",
       "      <td>0.0</td>\n",
       "      <td>0.0</td>\n",
       "      <td>0.0</td>\n",
       "      <td>0.0</td>\n",
       "    </tr>\n",
       "    <tr>\n",
       "      <th>604</th>\n",
       "      <td>0.0</td>\n",
       "      <td>0.0</td>\n",
       "      <td>0.0</td>\n",
       "      <td>0.0</td>\n",
       "      <td>0.0</td>\n",
       "      <td>0.0</td>\n",
       "      <td>0.0</td>\n",
       "      <td>0.0</td>\n",
       "      <td>0.0</td>\n",
       "      <td>0.0</td>\n",
       "      <td>...</td>\n",
       "      <td>0.0</td>\n",
       "      <td>0.0</td>\n",
       "      <td>0.0</td>\n",
       "      <td>0.0</td>\n",
       "      <td>0.0</td>\n",
       "      <td>0.0</td>\n",
       "      <td>0.0</td>\n",
       "      <td>0.0</td>\n",
       "      <td>0.0</td>\n",
       "      <td>0.0</td>\n",
       "    </tr>\n",
       "    <tr>\n",
       "      <th>605</th>\n",
       "      <td>0.0</td>\n",
       "      <td>0.0</td>\n",
       "      <td>0.0</td>\n",
       "      <td>0.0</td>\n",
       "      <td>0.0</td>\n",
       "      <td>0.0</td>\n",
       "      <td>0.0</td>\n",
       "      <td>0.0</td>\n",
       "      <td>0.0</td>\n",
       "      <td>0.0</td>\n",
       "      <td>...</td>\n",
       "      <td>0.0</td>\n",
       "      <td>0.0</td>\n",
       "      <td>0.0</td>\n",
       "      <td>0.0</td>\n",
       "      <td>0.0</td>\n",
       "      <td>0.0</td>\n",
       "      <td>0.0</td>\n",
       "      <td>0.0</td>\n",
       "      <td>0.0</td>\n",
       "      <td>0.0</td>\n",
       "    </tr>\n",
       "    <tr>\n",
       "      <th>606</th>\n",
       "      <td>0.0</td>\n",
       "      <td>0.0</td>\n",
       "      <td>0.0</td>\n",
       "      <td>0.0</td>\n",
       "      <td>0.0</td>\n",
       "      <td>0.0</td>\n",
       "      <td>0.0</td>\n",
       "      <td>0.0</td>\n",
       "      <td>0.0</td>\n",
       "      <td>0.0</td>\n",
       "      <td>...</td>\n",
       "      <td>0.0</td>\n",
       "      <td>0.0</td>\n",
       "      <td>0.0</td>\n",
       "      <td>0.0</td>\n",
       "      <td>0.0</td>\n",
       "      <td>0.0</td>\n",
       "      <td>0.0</td>\n",
       "      <td>0.0</td>\n",
       "      <td>0.0</td>\n",
       "      <td>0.0</td>\n",
       "    </tr>\n",
       "  </tbody>\n",
       "</table>\n",
       "<p>607 rows × 835 columns</p>\n",
       "</div>"
      ],
      "text/plain": [
       "      aa  aabl  abef  abnorm   ac  acc  accept  access  acpi  acpiforc  ...  \\\n",
       "0    0.0   0.0   0.0     0.0  0.0  0.0     0.0     0.0   0.0       0.0  ...   \n",
       "1    0.0   0.0   0.0     0.0  0.0  0.0     0.0     0.0   0.0       0.0  ...   \n",
       "2    0.0   0.0   0.0     0.0  0.0  0.0     0.0     0.0   0.0       0.0  ...   \n",
       "3    0.0   0.0   0.0     0.0  0.0  0.0     0.0     0.0   0.0       0.0  ...   \n",
       "4    0.0   0.0   0.0     0.0  0.0  0.0     0.0     0.0   0.0       0.0  ...   \n",
       "..   ...   ...   ...     ...  ...  ...     ...     ...   ...       ...  ...   \n",
       "602  0.0   0.0   0.0     0.0  0.0  0.0     0.0     0.0   0.0       0.0  ...   \n",
       "603  0.0   0.0   0.0     0.0  0.0  0.0     0.0     0.0   0.0       0.0  ...   \n",
       "604  0.0   0.0   0.0     0.0  0.0  0.0     0.0     0.0   0.0       0.0  ...   \n",
       "605  0.0   0.0   0.0     0.0  0.0  0.0     0.0     0.0   0.0       0.0  ...   \n",
       "606  0.0   0.0   0.0     0.0  0.0  0.0     0.0     0.0   0.0       0.0  ...   \n",
       "\n",
       "     xffaxffaf  xfq  xfxfxf  xinetd   xx  xxx  you  zap  zoe  zone  \n",
       "0          0.0  0.0     0.0     0.0  0.0  0.0  0.0  0.0  0.0   0.0  \n",
       "1          0.0  0.0     0.0     0.0  0.0  0.0  0.0  0.0  0.0   0.0  \n",
       "2          0.0  0.0     0.0     0.0  0.0  0.0  0.0  0.0  0.0   0.0  \n",
       "3          0.0  0.0     0.0     0.0  0.0  0.0  0.0  0.0  0.0   0.0  \n",
       "4          0.0  0.0     0.0     0.0  0.0  0.0  0.0  0.0  0.0   0.0  \n",
       "..         ...  ...     ...     ...  ...  ...  ...  ...  ...   ...  \n",
       "602        0.0  0.0     0.0     0.0  0.0  0.0  0.0  0.0  0.0   0.0  \n",
       "603        0.0  0.0     0.0     0.0  0.0  0.0  0.0  0.0  0.0   0.0  \n",
       "604        0.0  0.0     0.0     0.0  0.0  0.0  0.0  0.0  0.0   0.0  \n",
       "605        0.0  0.0     0.0     0.0  0.0  0.0  0.0  0.0  0.0   0.0  \n",
       "606        0.0  0.0     0.0     0.0  0.0  0.0  0.0  0.0  0.0   0.0  \n",
       "\n",
       "[607 rows x 835 columns]"
      ]
     },
     "execution_count": 24,
     "metadata": {},
     "output_type": "execute_result"
    }
   ],
   "source": [
    "idf_df"
   ]
  },
  {
   "cell_type": "markdown",
   "metadata": {
    "scrolled": true
   },
   "source": [
    "## DB Scan "
   ]
  },
  {
   "cell_type": "code",
   "execution_count": 26,
   "metadata": {},
   "outputs": [],
   "source": [
    "from sklearn.metrics import pairwise_distances\n",
    "from scipy.spatial.distance import cosine\n",
    "from sklearn.cluster import DBSCAN\n",
    "distance_array = pairwise_distances(arr, metric='cosine')"
   ]
  },
  {
   "cell_type": "code",
   "execution_count": 27,
   "metadata": {},
   "outputs": [
    {
     "data": {
      "text/plain": [
       "0.0"
      ]
     },
     "execution_count": 27,
     "metadata": {},
     "output_type": "execute_result"
    }
   ],
   "source": [
    "distance_array[0][0]"
   ]
  },
  {
   "cell_type": "code",
   "execution_count": 28,
   "metadata": {},
   "outputs": [],
   "source": []
  },
  {
   "cell_type": "code",
   "execution_count": 29,
   "metadata": {},
   "outputs": [
    {
     "name": "stdout",
     "output_type": "stream",
     "text": [
      "Lol\n"
     ]
    }
   ],
   "source": []
  },
  {
   "cell_type": "code",
   "execution_count": 96,
   "metadata": {},
   "outputs": [],
   "source": [
    "clustering = DBSCAN(eps=0.6, min_samples=3, metric='precomputed').fit(distance_array)"
   ]
  },
  {
   "cell_type": "code",
   "execution_count": 47,
   "metadata": {},
   "outputs": [
    {
     "data": {
      "text/plain": [
       "DBSCAN(metric='precomputed', min_samples=2)"
      ]
     },
     "execution_count": 47,
     "metadata": {},
     "output_type": "execute_result"
    }
   ],
   "source": [
    "clustering"
   ]
  },
  {
   "cell_type": "code",
   "execution_count": 97,
   "metadata": {
    "scrolled": true
   },
   "outputs": [
    {
     "data": {
      "text/plain": [
       "array([ 0,  1,  2,  3,  4, -1, -1,  5, -1,  5,  1,  4,  6, -1, -1, -1,  1,\n",
       "        1,  1, -1,  1,  5,  2,  1, 17,  2,  1,  2,  1,  7, -1,  1,  8,  1,\n",
       "        1, -1,  1,  5, -1, -1, -1,  1,  1, -1,  9,  3,  1,  1,  1, -1, -1,\n",
       "       -1,  5,  5, -1, 10, -1, -1, -1, -1,  7,  5, -1, -1, 11,  1,  2,  1,\n",
       "        2, 14, 18,  5,  2,  2, -1,  2,  5, 12, 13, 14,  2,  1, -1,  1,  2,\n",
       "        2,  2,  5, -1, -1, -1,  2,  1,  1,  1, -1,  2,  2,  5, 15, -1, -1,\n",
       "       -1, -1,  1,  5,  5, -1,  2,  7, 16,  5,  1, -1, -1, -1,  2,  1, -1,\n",
       "       -1, -1,  5,  1, -1, -1, -1, -1, -1,  1,  9,  1, -1,  2,  5,  5, -1,\n",
       "       -1,  1, -1,  5,  1,  1,  1, -1,  1, 17, -1, -1,  1, -1, -1, 17,  5,\n",
       "        5, -1,  5,  7,  2,  1,  1,  5, -1, -1, -1,  1, -1, -1,  4, -1, -1,\n",
       "       18,  5,  1,  5,  2,  7,  2, -1,  1,  5,  5, -1, -1, -1,  2,  5, -1,\n",
       "        2, -1,  2,  1,  5, -1,  1,  5, -1,  2,  5, -1,  3, -1, -1, -1, -1,\n",
       "        1,  2,  2, -1, -1, -1,  5,  1,  1,  8, -1,  1,  1,  5, -1,  1,  2,\n",
       "        2,  1, -1,  5, -1,  5,  7, -1,  1,  1, -1,  2, 17,  1,  5,  5, 16,\n",
       "        1, -1,  5, -1,  2, -1,  4, -1, -1,  2,  5,  5, -1, -1, -1, -1, -1,\n",
       "        2,  2,  1,  5,  5, -1,  2,  5,  1,  1, -1,  1,  5,  1, -1, -1,  2,\n",
       "       -1, 11, -1,  2,  5,  5, -1,  2, 17, -1, 19,  1,  5,  5, -1, 18,  1,\n",
       "       14, -1,  1,  2, -1,  5,  5, -1, -1, -1, -1,  1, -1, 14, 21, -1, -1,\n",
       "       -1,  5, -1,  1,  5, -1,  1, 20,  1,  1,  1, 17, 10, -1, -1,  1, -1,\n",
       "        5,  5, -1, -1, -1, -1, 21,  4,  2,  1, 21, -1,  2,  1,  1,  1,  2,\n",
       "       -1, -1, -1,  1, -1, -1,  5,  5, -1,  5,  7,  1,  1, 16,  1, -1,  5,\n",
       "        5, -1, 22,  1,  5,  5,  1,  5,  5, -1, -1, 16,  1,  5,  1,  1, -1,\n",
       "       14, -1,  1, -1, -1,  2,  5, -1,  1,  2, -1, -1,  1, 13, 22,  5,  1,\n",
       "        5, 18,  1,  1, -1, -1, -1,  1,  2,  5,  2,  0, -1,  2, -1,  1,  2,\n",
       "        5,  3, -1,  2, 10, -1, -1, 19,  5, -1,  5,  1, -1, 20, -1, -1, -1,\n",
       "       -1,  1,  2,  1, -1, 12,  1, -1,  5, -1,  1,  8, -1,  1,  5,  5,  6,\n",
       "       -1,  2, -1,  1,  7, -1,  1,  1, -1,  1, -1, 16, -1, 13,  2,  5, 22,\n",
       "        5, -1,  5, 12, 17,  1,  5,  2,  1, 23, 14, -1, 20,  1, -1, -1, -1,\n",
       "        5,  1, -1, -1,  2,  2,  1, -1,  2, -1,  5, -1,  2,  1, -1, -1,  3,\n",
       "       17,  1,  5,  5, -1,  1,  2, -1,  5,  7, 23, -1, -1,  2, -1, -1, -1,\n",
       "       -1,  1, -1, -1,  5, -1,  3,  5,  5, -1,  5, -1,  7,  5,  1, -1, -1,\n",
       "       -1,  1,  5,  1,  2, -1, -1, 17, 15, 21, -1,  1, -1,  1,  2,  4,  5,\n",
       "       11,  5, -1, -1,  2,  2,  5, 15, -1, -1, -1,  1,  5, -1,  5, -1,  5,\n",
       "       -1,  5, -1,  2, -1,  5,  5, -1,  1,  1,  1,  1,  6,  1,  1,  5, 19,\n",
       "       -1, 20,  5,  5,  9,  1, -1,  7, 20, 10,  7, 23, -1, -1, -1,  5, -1,\n",
       "       11, -1,  1,  2, -1, -1,  0, -1,  2,  2,  1,  2], dtype=int64)"
      ]
     },
     "execution_count": 97,
     "metadata": {},
     "output_type": "execute_result"
    }
   ],
   "source": [
    "clustering.labels_"
   ]
  },
  {
   "cell_type": "code",
   "execution_count": 98,
   "metadata": {},
   "outputs": [],
   "source": [
    "cluster =[[] for i in range(max(clustering.labels_)+1)]\n",
    "noise =[]\n",
    "for i in range(len(clustering.labels_)):\n",
    "    if clustering.labels_[i] == -1:\n",
    "        noise.append(final_logs[i]);\n",
    "    else:\n",
    "        cluster[clustering.labels_[i]].append(final_logs[i])\n",
    "\n",
    "        \n",
    "        \n",
    "# print(noise)\n",
    "# print()\n",
    "# print()\n",
    "# print(cluster)"
   ]
  },
  {
   "cell_type": "code",
   "execution_count": 100,
   "metadata": {},
   "outputs": [
    {
     "name": "stdout",
     "output_type": "stream",
     "text": [
      "['kernel audit initi netlink socket enabl', 'kernel e', 'kernel selinux initi usbdevf genf', 'kernel kernel log proc stop', 'kernel selinux initi rootf genf', 'kernel out memori kill procc', 'kernel out memori kill proctpd', 'kernel out memori kill procskcheck', 'kernel selinux initi sockf task sid', 'kernel c', 'kernel out memori kill proc', 'kernel selinux complet initi', 'kernel out memori kill procdatedb', 'kernel out memori kill procm', 'kernel ae ext', 'kernel addb ext', 'kernel kernel log daemon termin', 'kernel out memori kill procerv', 'kernel selinux initi pipef task sid', 'kernel out memori kill proclinux', 'kernel selinux initi ramf genf', 'kernel selinux initi usbf genf', 'kernel selinux initi eventpollf genf', 'kernel audit enabl initi', 'kernel out memori kill procelink', 'kernel audit initi netlink socket disabl', 'kernel initi', 'kernel out memori kill procsqld', 'kernel aeed ext', 'kernel out memori kill procusdaemon', 'kernel selinux initi hugetlbf configur label', 'kernel out memori kill procndmail', 'kernel selinux initi selinuxf genf', 'kernel out memori kill procthon', 'kernel extf write access enabl recoveri', 'kernel capabl lsm initi', 'kernel selinux initi ram ext xattr', 'kernel initi cryptograph api', 'kernel selinux initi bdev genf', 'kernel out memori kill prochd', 'kernel initi ipsec netlink socket', 'kernel out memori kill procrtmap', 'kernel scsi subsystem initi', 'kernel f', 'kernel', 'kernel aecc ext ext', 'kernel out memori kill proctg', 'kernel audit', 'kernel selinux initi', 'kernel selinux initi devpt transit sid', 'kernel out memori kill procrt', 'kernel selinux initi sysf genf', 'kernel b', 'kernel selinux initi rp genf', 'kernel modul', 'kernel out memori kill procmq', 'kernel selinux initi proc genf', 'kernel failur regist capabl kernel', 'kernel extf recoveri complet', 'kernel out memori kill procond', 'kernel selinux initi mqueue configur label', 'kernel extf info recoveri requir readonli', 'kernel aeba ext', 'kernel selinux initi ext xattr', 'kernel selinu regist secondari modul capabl', 'kernel selinux initi tmpf transit sid', 'kernel aec ext', 'kernel ext fs journal', 'kernel selinux initi futexf genf']\n"
     ]
    }
   ],
   "source": [
    "clu =[]\n",
    "for i in range(len(clustering.labels_)):\n",
    "    if clustering.labels_[i] == 2:\n",
    "        clu.append(final_logs[i]);\n",
    "print(clu)"
   ]
  },
  {
   "cell_type": "code",
   "execution_count": 101,
   "metadata": {},
   "outputs": [],
   "source": [
    "db = pd.DataFrame(clustering.labels_,final_logs)"
   ]
  },
  {
   "cell_type": "code",
   "execution_count": 64,
   "metadata": {
    "scrolled": true
   },
   "outputs": [
    {
     "data": {
      "text/html": [
       "<div>\n",
       "<style scoped>\n",
       "    .dataframe tbody tr th:only-of-type {\n",
       "        vertical-align: middle;\n",
       "    }\n",
       "\n",
       "    .dataframe tbody tr th {\n",
       "        vertical-align: top;\n",
       "    }\n",
       "\n",
       "    .dataframe thead th {\n",
       "        text-align: right;\n",
       "    }\n",
       "</style>\n",
       "<table border=\"1\" class=\"dataframe\">\n",
       "  <thead>\n",
       "    <tr style=\"text-align: right;\">\n",
       "      <th></th>\n",
       "      <th>0</th>\n",
       "    </tr>\n",
       "  </thead>\n",
       "  <tbody>\n",
       "    <tr>\n",
       "      <th>mysqld stop mysql succeed</th>\n",
       "      <td>0</td>\n",
       "    </tr>\n",
       "    <tr>\n",
       "      <th>spamassassin shutdown succeed</th>\n",
       "      <td>1</td>\n",
       "    </tr>\n",
       "    <tr>\n",
       "      <th>kernel audit initi netlink socket enabl</th>\n",
       "      <td>2</td>\n",
       "    </tr>\n",
       "    <tr>\n",
       "      <th>privoxi jan voxi info load configur file etcprivoxyconfig</th>\n",
       "      <td>3</td>\n",
       "    </tr>\n",
       "    <tr>\n",
       "      <th>ftpd connect fil</th>\n",
       "      <td>4</td>\n",
       "    </tr>\n",
       "  </tbody>\n",
       "</table>\n",
       "</div>"
      ],
      "text/plain": [
       "                                                    0\n",
       "mysqld stop mysql succeed                           0\n",
       "spamassassin shutdown succeed                       1\n",
       "kernel audit initi netlink socket enabl             2\n",
       "privoxi jan voxi info load configur file etcpri...  3\n",
       "ftpd connect fil                                    4"
      ]
     },
     "execution_count": 64,
     "metadata": {},
     "output_type": "execute_result"
    }
   ],
   "source": []
  },
  {
   "cell_type": "code",
   "execution_count": 95,
   "metadata": {},
   "outputs": [
    {
     "data": {
      "image/png": "[encoded data removed]",
      "text/plain": [
       "<Figure size 432x288 with 1 Axes>"
      ]
     },
     "metadata": {
      "needs_background": "light"
     },
     "output_type": "display_data"
    }
   ],
   "source": [
    "import matplotlib.pyplot as plt\n",
    "plt.scatter([i for i in range(607)],clustering.labels_)\n",
    "plt.xlabel('Documents')\n",
    "plt.ylabel('clusters ')\n",
    "plt.show()"
   ]
  },
  {
   "cell_type": "code",
   "execution_count": 69,
   "metadata": {},
   "outputs": [],
   "source": [
    "from sklearn.manifold import MDS\n",
    "from sklearn.preprocessing import MinMaxScaler"
   ]
  },
  {
   "cell_type": "code",
   "execution_count": 129,
   "metadata": {},
   "outputs": [
    {
     "data": {
      "text/plain": [
       "array([[0., 0., 0., ..., 0., 0., 0.],\n",
       "       [0., 0., 0., ..., 0., 0., 0.],\n",
       "       [0., 0., 0., ..., 0., 0., 0.],\n",
       "       ...,\n",
       "       [0., 0., 0., ..., 0., 0., 0.],\n",
       "       [0., 0., 0., ..., 0., 0., 0.],\n",
       "       [0., 0., 0., ..., 0., 0., 0.]])"
      ]
     },
     "execution_count": 129,
     "metadata": {},
     "output_type": "execute_result"
    }
   ],
   "source": [
    "arr"
   ]
  },
  {
   "cell_type": "code",
   "execution_count": 132,
   "metadata": {},
   "outputs": [],
   "source": [
    "scaler = MinMaxScaler()\n",
    "X_scaled = scaler.fit_transform(arr)"
   ]
  },
  {
   "cell_type": "code",
   "execution_count": 133,
   "metadata": {},
   "outputs": [
    {
     "data": {
      "text/plain": [
       "array([[0., 0., 0., ..., 0., 0., 0.],\n",
       "       [0., 0., 0., ..., 0., 0., 0.],\n",
       "       [0., 0., 0., ..., 0., 0., 0.],\n",
       "       ...,\n",
       "       [0., 0., 0., ..., 0., 0., 0.],\n",
       "       [0., 0., 0., ..., 0., 0., 0.],\n",
       "       [0., 0., 0., ..., 0., 0., 0.]])"
      ]
     },
     "execution_count": 133,
     "metadata": {},
     "output_type": "execute_result"
    }
   ],
   "source": [
    "X_scaled"
   ]
  },
  {
   "cell_type": "code",
   "execution_count": 135,
   "metadata": {},
   "outputs": [],
   "source": [
    "mds = MDS(2)\n",
    "X_2d = mds.fit_transform(X_scaled)"
   ]
  },
  {
   "cell_type": "code",
   "execution_count": 123,
   "metadata": {},
   "outputs": [
    {
     "data": {
      "text/plain": [
       "MDS()"
      ]
     },
     "execution_count": 123,
     "metadata": {},
     "output_type": "execute_result"
    }
   ],
   "source": []
  },
  {
   "cell_type": "code",
   "execution_count": 136,
   "metadata": {},
   "outputs": [],
   "source": [
    "X_2d\n",
    "x =[]\n",
    "y =[]\n",
    "for arr in X_2d:\n",
    "    x.append(arr[0])\n",
    "    y.append(arr[1])\n"
   ]
  },
  {
   "cell_type": "code",
   "execution_count": 139,
   "metadata": {},
   "outputs": [
    {
     "data": {
      "image/png": "[encoded data removed]",
      "text/plain": [
       "<Figure size 432x288 with 1 Axes>"
      ]
     },
     "metadata": {
      "needs_background": "light"
     },
     "output_type": "display_data"
    }
   ],
   "source": [
    "plt.scatter(x,y)\n",
    "plt.show()"
   ]
  },
  {
   "cell_type": "code",
   "execution_count": 142,
   "metadata": {},
   "outputs": [],
   "source": [
    "import seaborn"
   ]
  },
  {
   "cell_type": "code",
   "execution_count": 147,
   "metadata": {},
   "outputs": [],
   "source": [
    "df_plot = pd.DataFrame( {'x_axis': x,\n",
    "     'y_axis': y,\n",
    "     'cluster': clustering.labels_\n",
    "    })"
   ]
  },
  {
   "cell_type": "code",
   "execution_count": null,
   "metadata": {},
   "outputs": [],
   "source": []
  },
  {
   "cell_type": "code",
   "execution_count": 157,
   "metadata": {},
   "outputs": [
    {
     "data": {
      "image/png": "[encoded data removed]",
      "text/plain": [
       "<Figure size 480.75x432 with 1 Axes>"
      ]
     },
     "metadata": {
      "needs_background": "light"
     },
     "output_type": "display_data"
    }
   ],
   "source": [
    "seaborn.FacetGrid(df_plot, hue =\"cluster\", height = 6).map(\n",
    "plt.scatter, 'x_axis', 'y_axis').add_legend()\n",
    "\n",
    "plt.show()"
   ]
  },
  {
   "cell_type": "code",
   "execution_count": null,
   "metadata": {},
   "outputs": [],
   "source": []
  },
  {
   "cell_type": "markdown",
   "metadata": {},
   "source": [
    "## KMeans Clustering"
   ]
  },
  {
   "cell_type": "code",
   "execution_count": 18,
   "metadata": {},
   "outputs": [],
   "source": [
    "from sklearn.cluster import KMeans\n",
    "number_of_clusters=2\n",
    "km = KMeans(n_clusters=number_of_clusters)"
   ]
  },
  {
   "cell_type": "code",
   "execution_count": 19,
   "metadata": {},
   "outputs": [
    {
     "data": {
      "text/plain": [
       "KMeans(n_clusters=2)"
      ]
     },
     "execution_count": 19,
     "metadata": {},
     "output_type": "execute_result"
    }
   ],
   "source": [
    "km.fit(result)"
   ]
  },
  {
   "cell_type": "code",
   "execution_count": 20,
   "metadata": {},
   "outputs": [
    {
     "data": {
      "text/plain": [
       "<bound method KMeans.fit of KMeans(n_clusters=2)>"
      ]
     },
     "execution_count": 20,
     "metadata": {},
     "output_type": "execute_result"
    }
   ],
   "source": [
    "km.fit"
   ]
  },
  {
   "cell_type": "code",
   "execution_count": 21,
   "metadata": {},
   "outputs": [
    {
     "name": "stdout",
     "output_type": "stream",
     "text": [
      "Top terms per cluster:\n",
      "Cluster 0: ftpd connect sshdpa failur authent uiddnodevssh rhost kernel unknown session\n",
      "Cluster 1: out memori kill proctpd kernel procthon procndmail hub htt htor\n"
     ]
    },
    {
     "name": "stderr",
     "output_type": "stream",
     "text": [
      "C:\\Users\\akesar\\Anaconda3\\lib\\site-packages\\sklearn\\utils\\deprecation.py:87: FutureWarning: Function get_feature_names is deprecated; get_feature_names is deprecated in 1.0 and will be removed in 1.2. Please use get_feature_names_out instead.\n",
      "  warnings.warn(msg, category=FutureWarning)\n"
     ]
    }
   ],
   "source": [
    "print(\"Top terms per cluster:\")\n",
    "order_centroids = km.cluster_centers_.argsort()[:, ::-1]\n",
    "terms = vectorizer.get_feature_names()\n",
    "for i in range(number_of_clusters):\n",
    "    top_ten_words = [terms[ind] for ind in order_centroids[i, :10]]\n",
    "    print(\"Cluster {}: {}\".format(i, ' '.join(top_ten_words)))"
   ]
  },
  {
   "cell_type": "code",
   "execution_count": 42,
   "metadata": {},
   "outputs": [],
   "source": [
    "results = pd.DataFrame()\n",
    "results['text'] = text\n",
    "results['category'] = km.labels_\n",
    "# results"
   ]
  },
  {
   "cell_type": "code",
   "execution_count": 46,
   "metadata": {},
   "outputs": [
    {
     "data": {
      "text/plain": [
       "array([[0., 0., 0., ..., 0., 0., 0.],\n",
       "       [0., 0., 0., ..., 0., 0., 0.],\n",
       "       [0., 0., 0., ..., 0., 0., 0.],\n",
       "       ...,\n",
       "       [0., 0., 0., ..., 0., 0., 0.],\n",
       "       [0., 0., 0., ..., 0., 0., 0.],\n",
       "       [0., 0., 0., ..., 0., 0., 0.]])"
      ]
     },
     "execution_count": 46,
     "metadata": {},
     "output_type": "execute_result"
    }
   ],
   "source": [
    "arr"
   ]
  },
  {
   "cell_type": "markdown",
   "metadata": {},
   "source": [
    "## 3 categories"
   ]
  },
  {
   "cell_type": "code",
   "execution_count": 23,
   "metadata": {},
   "outputs": [
    {
     "data": {
      "text/plain": [
       "<bound method KMeans.fit of KMeans(n_clusters=3)>"
      ]
     },
     "execution_count": 23,
     "metadata": {},
     "output_type": "execute_result"
    }
   ],
   "source": [
    "from sklearn.cluster import KMeans\n",
    "\n",
    "number_of_clusters=3\n",
    "km = KMeans(n_clusters=number_of_clusters)\n",
    "# Normally people fit the matrix\n",
    "km.fit(result)\n",
    "km.fit"
   ]
  },
  {
   "cell_type": "code",
   "execution_count": 43,
   "metadata": {},
   "outputs": [],
   "source": [
    "results = pd.DataFrame({\n",
    "    'text': text,\n",
    "    'category': km.labels_\n",
    "})\n",
    "# results"
   ]
  },
  {
   "cell_type": "code",
   "execution_count": 25,
   "metadata": {},
   "outputs": [
    {
     "name": "stdout",
     "output_type": "stream",
     "text": [
      "Top terms per cluster:\n",
      "Cluster 0: out memori kill proctpd kernel procthon procndmail hub htt htor\n",
      "Cluster 1: sshdpa failur authent uiddnodevssh rhost kernel unknown session supa rhostrroot\n",
      "Cluster 2: ftpd connect fst fm getpeernam endpoint transport fil zone host\n"
     ]
    },
    {
     "name": "stderr",
     "output_type": "stream",
     "text": [
      "C:\\Users\\akesar\\Anaconda3\\lib\\site-packages\\sklearn\\utils\\deprecation.py:87: FutureWarning: Function get_feature_names is deprecated; get_feature_names is deprecated in 1.0 and will be removed in 1.2. Please use get_feature_names_out instead.\n",
      "  warnings.warn(msg, category=FutureWarning)\n"
     ]
    }
   ],
   "source": [
    "print(\"Top terms per cluster:\")\n",
    "order_centroids = km.cluster_centers_.argsort()[:, ::-1]\n",
    "terms = vectorizer.get_feature_names()\n",
    "for i in range(number_of_clusters):\n",
    "    top_ten_words = [terms[ind] for ind in order_centroids[i, :10]]\n",
    "    print(\"Cluster {}: {}\".format(i, '   '.join(top_ten_words)))"
   ]
  },
  {
   "cell_type": "markdown",
   "metadata": {},
   "source": [
    "## WCSS method"
   ]
  },
  {
   "cell_type": "code",
   "execution_count": 26,
   "metadata": {},
   "outputs": [],
   "source": [
    "wcss_list= [] \n",
    "for i in range(1, 11):  \n",
    "    kmeans = KMeans(n_clusters=i)  \n",
    "    kmeans.fit(result)  \n",
    "    wcss_list.append(kmeans.inertia_)\n"
   ]
  },
  {
   "cell_type": "code",
   "execution_count": 32,
   "metadata": {},
   "outputs": [
    {
     "data": {
      "image/png": "[encoded data removed]",
      "text/plain": [
       "<Figure size 432x288 with 1 Axes>"
      ]
     },
     "metadata": {
      "needs_background": "light"
     },
     "output_type": "display_data"
    }
   ],
   "source": [
    "import matplotlib.pyplot as mtp\n",
    "mtp.plot(range(1, 11), wcss_list)  \n",
    "mtp.title('The Elbow Method Graph')  \n",
    "mtp.xlabel('Number of clusters(k)')  \n",
    "mtp.ylabel('wcss_list')  \n",
    "mtp.show()  "
   ]
  },
  {
   "cell_type": "code",
   "execution_count": 30,
   "metadata": {},
   "outputs": [
    {
     "data": {
      "text/plain": [
       "KMeans(n_clusters=3)"
      ]
     },
     "execution_count": 30,
     "metadata": {},
     "output_type": "execute_result"
    }
   ],
   "source": [
    "from sklearn.cluster import KMeans\n",
    "\n",
    "number_of_clusters=3\n",
    "km = KMeans(n_clusters=number_of_clusters)\n",
    "# Normally people fit the matrix\n",
    "km.fit(result)"
   ]
  },
  {
   "cell_type": "code",
   "execution_count": 33,
   "metadata": {},
   "outputs": [
    {
     "name": "stdout",
     "output_type": "stream",
     "text": [
      "Top terms per cluster:\n",
      "Cluster 0: sshdpa  failur  authent  uiddnodevssh  rhost  kernel  unknown  session  supa  rhostrroot\n",
      "Cluster 1: out  memori  kill  proctpd  kernel  procthon  procndmail  hub  htt  htor\n",
      "Cluster 2: ftpd  connect  fst  fm  getpeernam  endpoint  transport  fil  zone  host\n"
     ]
    }
   ],
   "source": [
    "print(\"Top terms per cluster:\")\n",
    "order_centroids = km.cluster_centers_.argsort()[:, ::-1]\n",
    "terms = vectorizer.get_feature_names()\n",
    "for i in range(number_of_clusters):\n",
    "    top_ten_words = [terms[ind] for ind in order_centroids[i, :10]]\n",
    "    print(\"Cluster {}: {}\".format(i, '  '.join(top_ten_words)))"
   ]
  },
  {
   "cell_type": "code",
   "execution_count": 51,
   "metadata": {},
   "outputs": [
    {
     "data": {
      "text/plain": [
       "numpy.ndarray"
      ]
     },
     "execution_count": 51,
     "metadata": {},
     "output_type": "execute_result"
    }
   ],
   "source": [
    "type(order_centroids)"
   ]
  },
  {
   "cell_type": "code",
   "execution_count": 52,
   "metadata": {},
   "outputs": [
    {
     "data": {
      "text/plain": [
       "array([[726, 239,  47, ..., 434, 812, 517],\n",
       "       [371, 470, 418, ..., 561, 560,   0],\n",
       "       [268, 133, 851, ..., 563, 562,   0]], dtype=int64)"
      ]
     },
     "execution_count": 52,
     "metadata": {},
     "output_type": "execute_result"
    }
   ],
   "source": [
    "order_centroids"
   ]
  },
  {
   "cell_type": "code",
   "execution_count": 56,
   "metadata": {},
   "outputs": [
    {
     "data": {
      "text/plain": [
       "array([[726, 239,  47, ..., 434, 812, 517],\n",
       "       [371, 470, 418, ..., 561, 560,   0],\n",
       "       [268, 133, 851, ..., 563, 562,   0]], dtype=int64)"
      ]
     },
     "execution_count": 56,
     "metadata": {},
     "output_type": "execute_result"
    }
   ],
   "source": [
    "km.cluster_centers_.argsort()[:,::-1]"
   ]
  },
  {
   "cell_type": "code",
   "execution_count": null,
   "metadata": {},
   "outputs": [],
   "source": []
  },
  {
   "cell_type": "code",
   "execution_count": null,
   "metadata": {},
   "outputs": [],
   "source": []
  },
  {
   "cell_type": "code",
   "execution_count": null,
   "metadata": {},
   "outputs": [],
   "source": []
  },
  {
   "cell_type": "code",
   "execution_count": null,
   "metadata": {},
   "outputs": [],
   "source": []
  },
  {
   "cell_type": "code",
   "execution_count": 25,
   "metadata": {},
   "outputs": [],
   "source": [
    "# print('\\nidf values:')\n",
    "# c=zip(vectorizer.get_feature_names(), vectorizer.idf_)\n",
    "# for ele1, ele2 in sorted(c,key = lambda x: x[1]):\n",
    "#     print(ele1, ':', ele2)"
   ]
  },
  {
   "cell_type": "markdown",
   "metadata": {},
   "source": [
    "# Word2vec"
   ]
  },
  {
   "cell_type": "code",
   "execution_count": null,
   "metadata": {},
   "outputs": [],
   "source": []
  },
  {
   "cell_type": "code",
   "execution_count": null,
   "metadata": {},
   "outputs": [],
   "source": [
    "\n"
   ]
  },
  {
   "cell_type": "code",
   "execution_count": null,
   "metadata": {},
   "outputs": [],
   "source": []
  },
  {
   "cell_type": "code",
   "execution_count": 30,
   "metadata": {},
   "outputs": [
    {
     "name": "stderr",
     "output_type": "stream",
     "text": [
      "[nltk_data] Downloading package stopwords to\n",
      "[nltk_data]     C:\\Users\\akesar\\AppData\\Roaming\\nltk_data...\n",
      "[nltk_data]   Package stopwords is already up-to-date!\n"
     ]
    }
   ],
   "source": [
    "import os\n",
    "import random\n",
    "import re\n",
    "import string\n",
    "\n",
    "import nltk\n",
    "import numpy as np\n",
    "import pandas as pd\n",
    "\n",
    "from gensim.models import Word2Vec\n",
    "\n",
    "from nltk import word_tokenize\n",
    "from nltk.corpus import stopwords\n",
    "\n",
    "from sklearn.cluster import MiniBatchKMeans\n",
    "from sklearn.metrics import silhouette_samples, silhouette_score\n",
    "\n",
    "\n",
    "nltk.download(\"stopwords\")\n",
    "\n",
    "SEED = 42\n",
    "random.seed(SEED)\n",
    "os.environ[\"PYTHONHASHSEED\"] = str(SEED)\n",
    "np.random.seed(SEED)"
   ]
  },
  {
   "cell_type": "code",
   "execution_count": 43,
   "metadata": {},
   "outputs": [],
   "source": [
    "model = Word2Vec(sentences=doc, vector_size=100, workers=1, seed=SEED)"
   ]
  },
  {
   "cell_type": "code",
   "execution_count": 41,
   "metadata": {},
   "outputs": [
    {
     "name": "stdout",
     "output_type": "stream",
     "text": [
      "[===============================================---] 94.1% 1565.1/1662.8MB downloaded\n"
     ]
    }
   ],
   "source": [
    "import gensim.downloader as api\n",
    "wv = api.load('word2vec-google-news-300')"
   ]
  },
  {
   "cell_type": "code",
   "execution_count": null,
   "metadata": {},
   "outputs": [],
   "source": [
    "\n"
   ]
  },
  {
   "cell_type": "code",
   "execution_count": null,
   "metadata": {},
   "outputs": [],
   "source": []
  },
  {
   "cell_type": "code",
   "execution_count": 49,
   "metadata": {},
   "outputs": [
    {
     "data": {
      "text/plain": [
       "(2, 100)"
      ]
     },
     "execution_count": 49,
     "metadata": {},
     "output_type": "execute_result"
    }
   ],
   "source": [
    "def vectorize(list_of_docs, model):\n",
    "    \"\"\"Generate vectors for list of documents using a Word Embedding\n",
    "\n",
    "    Args:\n",
    "        list_of_docs: List of documents\n",
    "        model: Gensim's Word Embedding\n",
    "\n",
    "    Returns:\n",
    "        List of document vectors\n",
    "    \"\"\"\n",
    "    features = []\n",
    "\n",
    "    for tokens in list_of_docs:\n",
    "        zero_vector = np.zeros(model.vector_size)\n",
    "        vectors = []\n",
    "        for token in tokens:\n",
    "            if token in model.wv:\n",
    "                try:\n",
    "                    vectors.append(model.wv[token])\n",
    "                except KeyError:\n",
    "                    continue\n",
    "        if vectors:\n",
    "            vectors = np.asarray(vectors)\n",
    "            avg_vec = vectors.mean(axis=0)\n",
    "            features.append(avg_vec)\n",
    "        else:\n",
    "            features.append(zero_vector)\n",
    "    return features\n",
    "    \n",
    "vectorized_docs = vectorize(docs, model=model)\n",
    "len(vectorized_docs), len(vectorized_docs[0])"
   ]
  },
  {
   "cell_type": "code",
   "execution_count": 50,
   "metadata": {},
   "outputs": [],
   "source": [
    "def mbkmeans_clusters(\n",
    "\tX, \n",
    "    k, \n",
    "    mb, \n",
    "    print_silhouette_values, \n",
    "):\n",
    "    \"\"\"Generate clusters and print Silhouette metrics using MBKmeans\n",
    "\n",
    "    Args:\n",
    "        X: Matrix of features.\n",
    "        k: Number of clusters.\n",
    "        mb: Size of mini-batches.\n",
    "        print_silhouette_values: Print silhouette values per cluster.\n",
    "\n",
    "    Returns:\n",
    "        Trained clustering model and labels based on X.\n",
    "    \"\"\"\n",
    "    km = MiniBatchKMeans(n_clusters=k, batch_size=mb).fit(X)\n",
    "    print(f\"For n_clusters = {k}\")\n",
    "    print(f\"Silhouette coefficient: {silhouette_score(X, km.labels_):0.2f}\")\n",
    "    print(f\"Inertia:{km.inertia_}\")\n",
    "\n",
    "    if print_silhouette_values:\n",
    "        sample_silhouette_values = silhouette_samples(X, km.labels_)\n",
    "        print(f\"Silhouette values:\")\n",
    "        silhouette_values = []\n",
    "        for i in range(k):\n",
    "            cluster_silhouette_values = sample_silhouette_values[km.labels_ == i]\n",
    "            silhouette_values.append(\n",
    "                (\n",
    "                    i,\n",
    "                    cluster_silhouette_values.shape[0],\n",
    "                    cluster_silhouette_values.mean(),\n",
    "                    cluster_silhouette_values.min(),\n",
    "                    cluster_silhouette_values.max(),\n",
    "                )\n",
    "            )\n",
    "        silhouette_values = sorted(\n",
    "            silhouette_values, key=lambda tup: tup[2], reverse=True\n",
    "        )\n",
    "        for s in silhouette_values:\n",
    "            print(\n",
    "                f\"    Cluster {s[0]}: Size:{s[1]} | Avg:{s[2]:.2f} | Min:{s[3]:.2f} | Max: {s[4]:.2f}\"\n",
    "            )\n",
    "    return km, km.labels_"
   ]
  },
  {
   "cell_type": "code",
   "execution_count": 50,
   "metadata": {},
   "outputs": [],
   "source": [
    "# clustering, cluster_labels = mbkmeans_clusters(\n",
    "#     X=vectorized_docs,\n",
    "#     k=50,\n",
    "#     mb=500,\n",
    "#     print_silhouette_values=True,\n",
    "# )\n",
    "# df_clusters = pd.DataFrame({\n",
    "#     \"text\": docs,\n",
    "#     \"tokens\": [\" \".join(text) for text in tokenized_docs],\n",
    "#     \"cluster\": cluster_labels\n",
    "# })"
   ]
  },
  {
   "cell_type": "code",
   "execution_count": null,
   "metadata": {},
   "outputs": [],
   "source": []
  },
  {
   "cell_type": "code",
   "execution_count": null,
   "metadata": {},
   "outputs": [],
   "source": []
  },
  {
   "cell_type": "code",
   "execution_count": null,
   "metadata": {},
   "outputs": [],
   "source": []
  },
  {
   "cell_type": "code",
   "execution_count": null,
   "metadata": {},
   "outputs": [],
   "source": []
  }
 ],
 "metadata": {
  "interpreter": {
   "hash": "777ac3220d56c49a96724f5060994578b9f53f3d4bdd42da3b08b6165829f144"
  },
  "kernelspec": {
   "display_name": "Python 3 (ipykernel)",
   "language": "python",
   "name": "python3"
  },
  "language_info": {
   "codemirror_mode": {
    "name": "ipython",
    "version": 3
   },
   "file_extension": ".py",
   "mimetype": "text/x-python",
   "name": "python",
   "nbconvert_exporter": "python",
   "pygments_lexer": "ipython3",
   "version": "3.9.7"
  }
 },
 "nbformat": 4,
 "nbformat_minor": 2
}

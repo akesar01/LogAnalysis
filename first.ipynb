{
 "cells": [
  {
   "cell_type": "code",
   "execution_count": 7,
   "metadata": {},
   "outputs": [],
   "source": [
    "import numpy as np\n",
    "import pandas as pd\n",
    "from elasticsearch import Elasticsearch\n",
    "from elasticsearch.helpers import scan\n",
    "import json"
   ]
  },
  {
   "cell_type": "code",
   "execution_count": 8,
   "metadata": {},
   "outputs": [],
   "source": [
    "# create a client instance of the library\n",
    "elastic_client = Elasticsearch()"
   ]
  },
  {
   "cell_type": "code",
   "execution_count": 3,
   "metadata": {},
   "outputs": [],
   "source": [
    "\n",
    "# response = elastic_client.search( index='*.27', body={} )"
   ]
  },
  {
   "cell_type": "code",
   "execution_count": 9,
   "metadata": {},
   "outputs": [],
   "source": [
    "es = Elasticsearch(host='localhost', port=9200)"
   ]
  },
  {
   "cell_type": "code",
   "execution_count": 10,
   "metadata": {},
   "outputs": [],
   "source": [
    "def get_data_from_elastic():\n",
    "    # query: The elasticsearch query.\n",
    "    query = {\n",
    "    \n",
    "    }\n",
    "\n",
    "    # Scan function to get all the data. \n",
    "    rel = scan(client=es,             \n",
    "               query=query,                                     \n",
    "               scroll='1m',\n",
    "               index='*.27',\n",
    "               raise_on_error=True,\n",
    "               preserve_order=False,\n",
    "               clear_scroll=True)\n",
    "\n",
    "    # Keep response in a list.\n",
    "    result = list(rel)\n",
    "\n",
    "    temp = []\n",
    "\n",
    "    # We need only '_source', which has all the fields required.\n",
    "    # This elimantes the elasticsearch metdata like _id, _type, _index.\n",
    "    for hit in result:\n",
    "        \n",
    "        temp.append(hit['_source'])\n",
    "\n",
    "    # Create a dataframe.\n",
    "    df = pd.DataFrame(temp)\n",
    "\n",
    "    return df"
   ]
  },
  {
   "cell_type": "code",
   "execution_count": 11,
   "metadata": {},
   "outputs": [],
   "source": [
    "df = get_data_from_elastic()"
   ]
  },
  {
   "cell_type": "code",
   "execution_count": 12,
   "metadata": {},
   "outputs": [
    {
     "data": {
      "text/html": [
       "<div>\n",
       "<style scoped>\n",
       "    .dataframe tbody tr th:only-of-type {\n",
       "        vertical-align: middle;\n",
       "    }\n",
       "\n",
       "    .dataframe tbody tr th {\n",
       "        vertical-align: top;\n",
       "    }\n",
       "\n",
       "    .dataframe thead th {\n",
       "        text-align: right;\n",
       "    }\n",
       "</style>\n",
       "<table border=\"1\" class=\"dataframe\">\n",
       "  <thead>\n",
       "    <tr style=\"text-align: right;\">\n",
       "      <th></th>\n",
       "      <th>@timestamp</th>\n",
       "      <th>path</th>\n",
       "      <th>@version</th>\n",
       "      <th>host</th>\n",
       "      <th>message</th>\n",
       "    </tr>\n",
       "  </thead>\n",
       "  <tbody>\n",
       "    <tr>\n",
       "      <th>0</th>\n",
       "      <td>2022-01-27T11:52:02.249Z</td>\n",
       "      <td>C:/Users/akesar/Desktop/ELK/logstash-7.16.2-wi...</td>\n",
       "      <td>1</td>\n",
       "      <td>IN-akesar-W1</td>\n",
       "      <td>Jan 19 08:57:22 combo rpc.statd[1608]: gethost...</td>\n",
       "    </tr>\n",
       "    <tr>\n",
       "      <th>1</th>\n",
       "      <td>2022-01-27T11:52:02.447Z</td>\n",
       "      <td>C:/Users/akesar/Desktop/ELK/logstash-7.16.2-wi...</td>\n",
       "      <td>1</td>\n",
       "      <td>IN-akesar-W1</td>\n",
       "      <td>Jan 23 06:57:21 combo sshd(pam_unix)[28729]: a...</td>\n",
       "    </tr>\n",
       "    <tr>\n",
       "      <th>2</th>\n",
       "      <td>2022-01-27T11:52:02.682Z</td>\n",
       "      <td>C:/Users/akesar/Desktop/ELK/logstash-7.16.2-wi...</td>\n",
       "      <td>1</td>\n",
       "      <td>IN-akesar-W1</td>\n",
       "      <td>Jan 23 06:57:21 combo sshd(pam_unix)[28734]: a...</td>\n",
       "    </tr>\n",
       "    <tr>\n",
       "      <th>3</th>\n",
       "      <td>2022-01-27T11:52:02.682Z</td>\n",
       "      <td>C:/Users/akesar/Desktop/ELK/logstash-7.16.2-wi...</td>\n",
       "      <td>1</td>\n",
       "      <td>IN-akesar-W1</td>\n",
       "      <td>Jan 23 06:57:29 combo sshd(pam_unix)[28747]: c...</td>\n",
       "    </tr>\n",
       "    <tr>\n",
       "      <th>4</th>\n",
       "      <td>2022-01-27T11:52:02.682Z</td>\n",
       "      <td>C:/Users/akesar/Desktop/ELK/logstash-7.16.2-wi...</td>\n",
       "      <td>1</td>\n",
       "      <td>IN-akesar-W1</td>\n",
       "      <td>Jan 23 06:57:29 combo sshd(pam_unix)[28747]: a...</td>\n",
       "    </tr>\n",
       "    <tr>\n",
       "      <th>...</th>\n",
       "      <td>...</td>\n",
       "      <td>...</td>\n",
       "      <td>...</td>\n",
       "      <td>...</td>\n",
       "      <td>...</td>\n",
       "    </tr>\n",
       "    <tr>\n",
       "      <th>25562</th>\n",
       "      <td>2022-01-27T11:51:41.747Z</td>\n",
       "      <td>C:/Users/akesar/Desktop/ELK/logstash-7.16.2-wi...</td>\n",
       "      <td>1</td>\n",
       "      <td>IN-akesar-W1</td>\n",
       "      <td>Jun  9 06:06:52 combo messagebus: messagebus s...</td>\n",
       "    </tr>\n",
       "    <tr>\n",
       "      <th>25563</th>\n",
       "      <td>2022-01-27T11:51:41.747Z</td>\n",
       "      <td>C:/Users/akesar/Desktop/ELK/logstash-7.16.2-wi...</td>\n",
       "      <td>1</td>\n",
       "      <td>IN-akesar-W1</td>\n",
       "      <td>Jun  9 06:07:06 combo httpd: httpd startup suc...</td>\n",
       "    </tr>\n",
       "    <tr>\n",
       "      <th>25564</th>\n",
       "      <td>2022-01-27T11:51:41.749Z</td>\n",
       "      <td>C:/Users/akesar/Desktop/ELK/logstash-7.16.2-wi...</td>\n",
       "      <td>1</td>\n",
       "      <td>IN-akesar-W1</td>\n",
       "      <td>Jun  9 06:07:07 combo squid[2261]: Squid Paren...</td>\n",
       "    </tr>\n",
       "    <tr>\n",
       "      <th>25565</th>\n",
       "      <td>2022-01-27T11:51:41.750Z</td>\n",
       "      <td>C:/Users/akesar/Desktop/ELK/logstash-7.16.2-wi...</td>\n",
       "      <td>1</td>\n",
       "      <td>IN-akesar-W1</td>\n",
       "      <td>Jun  9 10:07:13 combo named[2275]: starting BI...</td>\n",
       "    </tr>\n",
       "    <tr>\n",
       "      <th>25566</th>\n",
       "      <td>2022-01-27T11:51:41.750Z</td>\n",
       "      <td>C:/Users/akesar/Desktop/ELK/logstash-7.16.2-wi...</td>\n",
       "      <td>1</td>\n",
       "      <td>IN-akesar-W1</td>\n",
       "      <td>Jun  9 10:07:13 combo named[2275]: using 1 CPU</td>\n",
       "    </tr>\n",
       "  </tbody>\n",
       "</table>\n",
       "<p>25567 rows × 5 columns</p>\n",
       "</div>"
      ],
      "text/plain": [
       "                     @timestamp  \\\n",
       "0      2022-01-27T11:52:02.249Z   \n",
       "1      2022-01-27T11:52:02.447Z   \n",
       "2      2022-01-27T11:52:02.682Z   \n",
       "3      2022-01-27T11:52:02.682Z   \n",
       "4      2022-01-27T11:52:02.682Z   \n",
       "...                         ...   \n",
       "25562  2022-01-27T11:51:41.747Z   \n",
       "25563  2022-01-27T11:51:41.747Z   \n",
       "25564  2022-01-27T11:51:41.749Z   \n",
       "25565  2022-01-27T11:51:41.750Z   \n",
       "25566  2022-01-27T11:51:41.750Z   \n",
       "\n",
       "                                                    path @version  \\\n",
       "0      C:/Users/akesar/Desktop/ELK/logstash-7.16.2-wi...        1   \n",
       "1      C:/Users/akesar/Desktop/ELK/logstash-7.16.2-wi...        1   \n",
       "2      C:/Users/akesar/Desktop/ELK/logstash-7.16.2-wi...        1   \n",
       "3      C:/Users/akesar/Desktop/ELK/logstash-7.16.2-wi...        1   \n",
       "4      C:/Users/akesar/Desktop/ELK/logstash-7.16.2-wi...        1   \n",
       "...                                                  ...      ...   \n",
       "25562  C:/Users/akesar/Desktop/ELK/logstash-7.16.2-wi...        1   \n",
       "25563  C:/Users/akesar/Desktop/ELK/logstash-7.16.2-wi...        1   \n",
       "25564  C:/Users/akesar/Desktop/ELK/logstash-7.16.2-wi...        1   \n",
       "25565  C:/Users/akesar/Desktop/ELK/logstash-7.16.2-wi...        1   \n",
       "25566  C:/Users/akesar/Desktop/ELK/logstash-7.16.2-wi...        1   \n",
       "\n",
       "               host                                            message  \n",
       "0      IN-akesar-W1  Jan 19 08:57:22 combo rpc.statd[1608]: gethost...  \n",
       "1      IN-akesar-W1  Jan 23 06:57:21 combo sshd(pam_unix)[28729]: a...  \n",
       "2      IN-akesar-W1  Jan 23 06:57:21 combo sshd(pam_unix)[28734]: a...  \n",
       "3      IN-akesar-W1  Jan 23 06:57:29 combo sshd(pam_unix)[28747]: c...  \n",
       "4      IN-akesar-W1  Jan 23 06:57:29 combo sshd(pam_unix)[28747]: a...  \n",
       "...             ...                                                ...  \n",
       "25562  IN-akesar-W1  Jun  9 06:06:52 combo messagebus: messagebus s...  \n",
       "25563  IN-akesar-W1  Jun  9 06:07:06 combo httpd: httpd startup suc...  \n",
       "25564  IN-akesar-W1  Jun  9 06:07:07 combo squid[2261]: Squid Paren...  \n",
       "25565  IN-akesar-W1  Jun  9 10:07:13 combo named[2275]: starting BI...  \n",
       "25566  IN-akesar-W1     Jun  9 10:07:13 combo named[2275]: using 1 CPU  \n",
       "\n",
       "[25567 rows x 5 columns]"
      ]
     },
     "execution_count": 12,
     "metadata": {},
     "output_type": "execute_result"
    }
   ],
   "source": [
    "df.head(100000)"
   ]
  },
  {
   "cell_type": "code",
   "execution_count": 13,
   "metadata": {},
   "outputs": [
    {
     "data": {
      "text/plain": [
       "'Jan 23 06:57:21 combo sshd(pam_unix)[28729]: authentication failure; logname= uid=0 euid=0 tty=NODEVssh ruser= rhost=202.127.25.130 '"
      ]
     },
     "execution_count": 13,
     "metadata": {},
     "output_type": "execute_result"
    }
   ],
   "source": [
    "df['message'][1]"
   ]
  },
  {
   "cell_type": "code",
   "execution_count": 9,
   "metadata": {},
   "outputs": [],
   "source": [
    "lis = list(df['message'])"
   ]
  },
  {
   "cell_type": "code",
   "execution_count": 12,
   "metadata": {},
   "outputs": [
    {
     "data": {
      "text/plain": [
       "'Jan 23 06:57:29 combo sshd(pam_unix)[28747]: check pass; user unknown'"
      ]
     },
     "execution_count": 12,
     "metadata": {},
     "output_type": "execute_result"
    }
   ],
   "source": [
    "lis[3]\n"
   ]
  },
  {
   "cell_type": "markdown",
   "metadata": {},
   "source": [
    "### store it in dataframe \n",
    "### Also need ID\n",
    "### Scroll for more than 10k records\n",
    "### Token in NLP\n",
    "### learn NLTK\n",
    "### Text Cleaning "
   ]
  },
  {
   "cell_type": "code",
   "execution_count": null,
   "metadata": {},
   "outputs": [],
   "source": []
  },
  {
   "cell_type": "code",
   "execution_count": null,
   "metadata": {},
   "outputs": [],
   "source": []
  },
  {
   "cell_type": "code",
   "execution_count": null,
   "metadata": {},
   "outputs": [],
   "source": []
  },
  {
   "cell_type": "code",
   "execution_count": null,
   "metadata": {},
   "outputs": [],
   "source": []
  },
  {
   "cell_type": "code",
   "execution_count": null,
   "metadata": {},
   "outputs": [],
   "source": [
    "\n"
   ]
  },
  {
   "cell_type": "code",
   "execution_count": null,
   "metadata": {},
   "outputs": [],
   "source": []
  },
  {
   "cell_type": "code",
   "execution_count": null,
   "metadata": {},
   "outputs": [],
   "source": []
  },
  {
   "cell_type": "code",
   "execution_count": null,
   "metadata": {},
   "outputs": [],
   "source": []
  },
  {
   "cell_type": "code",
   "execution_count": null,
   "metadata": {},
   "outputs": [],
   "source": []
  },
  {
   "cell_type": "code",
   "execution_count": null,
   "metadata": {},
   "outputs": [],
   "source": []
  },
  {
   "cell_type": "code",
   "execution_count": null,
   "metadata": {},
   "outputs": [],
   "source": []
  },
  {
   "cell_type": "code",
   "execution_count": null,
   "metadata": {},
   "outputs": [],
   "source": []
  },
  {
   "cell_type": "markdown",
   "metadata": {},
   "source": []
  },
  {
   "cell_type": "code",
   "execution_count": null,
   "metadata": {
    "scrolled": true
   },
   "outputs": [],
   "source": []
  },
  {
   "cell_type": "code",
   "execution_count": null,
   "metadata": {},
   "outputs": [],
   "source": []
  },
  {
   "cell_type": "code",
   "execution_count": null,
   "metadata": {},
   "outputs": [],
   "source": []
  },
  {
   "cell_type": "code",
   "execution_count": null,
   "metadata": {},
   "outputs": [],
   "source": []
  },
  {
   "cell_type": "code",
   "execution_count": null,
   "metadata": {},
   "outputs": [],
   "source": []
  }
 ],
 "metadata": {
  "interpreter": {
   "hash": "777ac3220d56c49a96724f5060994578b9f53f3d4bdd42da3b08b6165829f144"
  },
  "kernelspec": {
   "display_name": "Python 3 (ipykernel)",
   "language": "python",
   "name": "python3"
  },
  "language_info": {
   "codemirror_mode": {
    "name": "ipython",
    "version": 3
   },
   "file_extension": ".py",
   "mimetype": "text/x-python",
   "name": "python",
   "nbconvert_exporter": "python",
   "pygments_lexer": "ipython3",
   "version": "3.9.7"
  }
 },
 "nbformat": 4,
 "nbformat_minor": 2
}
